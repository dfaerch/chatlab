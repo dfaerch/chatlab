{
 "cells": [
  {
   "cell_type": "markdown",
   "metadata": {},
   "source": [
    "# Function Registry\n",
    "\n",
    "_Register functions to enable chat models to call them._\n",
    "\n",
    "The hidden power behind `chat.register(ƒ)` is the Function Registry. It lets you register _typed_ functions quickly and easily so they can be called on behalf of chat models.\n"
   ]
  },
  {
   "cell_type": "code",
   "execution_count": 1,
   "metadata": {},
   "outputs": [
    {
     "data": {
      "text/plain": [
       "8"
      ]
     },
     "execution_count": 1,
     "metadata": {},
     "output_type": "execute_result"
    }
   ],
   "source": [
    "from chatlab import FunctionRegistry, Chat, expose_exception_to_llm\n",
    "from typing import Union, List\n",
    "from IPython.display import JSON\n",
    "\n",
    "\n",
    "def f(x: float):\n",
    "    \"\"\"Multiply x by 2.\"\"\"\n",
    "    return x * 2\n",
    "\n",
    "\n",
    "registry = FunctionRegistry()\n",
    "registry.register_function(f)\n",
    "\n",
    "await registry.call(\"f\", '{\"x\": 4}')"
   ]
  },
  {
   "cell_type": "markdown",
   "metadata": {},
   "source": [
    "## Registering via Decorators\n",
    "\n",
    "`register` is also a decorator, allowing you to register a function while declaring it.\n"
   ]
  },
  {
   "cell_type": "code",
   "execution_count": 2,
   "metadata": {},
   "outputs": [
    {
     "data": {
      "text/plain": [
       "(1.0, -1.0)"
      ]
     },
     "execution_count": 2,
     "metadata": {},
     "output_type": "execute_result"
    }
   ],
   "source": [
    "from typing import Tuple, Optional\n",
    "import math\n",
    "\n",
    "\n",
    "@registry.register\n",
    "def quadratic_formula(a: float, b: float, c: float) -> Optional[Tuple[float, float]]:\n",
    "    \"\"\"\n",
    "    Solves the quadratic equation ax^2 + bx + c = 0.\n",
    "    :param a: Coefficient of x^2\n",
    "    :param b: Coefficient of x\n",
    "    :param c: Constant term\n",
    "    :return: Tuple containing two solutions or None if no real solutions exist\n",
    "    \"\"\"\n",
    "    discriminant = b**2 - 4 * a * c\n",
    "    if discriminant < 0:\n",
    "        return None  # No real solutions\n",
    "    x1 = (-b + math.sqrt(discriminant)) / (2 * a)\n",
    "    x2 = (-b - math.sqrt(discriminant)) / (2 * a)\n",
    "    return x1, x2\n",
    "\n",
    "\n",
    "await registry.call(\"quadratic_formula\", '{\"a\": 1, \"b\": 0, \"c\": -1}')"
   ]
  },
  {
   "cell_type": "markdown",
   "metadata": {},
   "source": [
    "Functions can be registered by:\n",
    "\n",
    "- Passing a typed function in directly\n",
    "- Passing the function and the Pydantic model that describes its parameters\n",
    "- Passing the function and a JSON schema that describes its parameters\n",
    "\n",
    "## Registering Typed Functions\n",
    "\n",
    "> [!NOTE]\n",
    "> Not all function parameters can be accurately determined. For those cases it's best to use a Pydantic model or JSON schema.\n",
    ">\n",
    "> If you're adventurous, make a [PR to chatlab](https://github.com/rgbkrk/chatlab) to improve the type inference!\n",
    "\n",
    "### No Parameters\n"
   ]
  },
  {
   "cell_type": "code",
   "execution_count": 3,
   "metadata": {},
   "outputs": [
    {
     "data": {
      "text/plain": [
       "FunctionDefinition(name='flip_a_coin', parameters={'properties': {}, 'type': 'object', 'required': []}, description='Flip a coin.')"
      ]
     },
     "execution_count": 3,
     "metadata": {},
     "output_type": "execute_result"
    }
   ],
   "source": [
    "import random\n",
    "\n",
    "\n",
    "def flip_a_coin():\n",
    "    \"\"\"Flip a coin.\"\"\"\n",
    "    return random.choice([\"heads\", \"tails\"])\n",
    "\n",
    "\n",
    "registry.register(flip_a_coin)"
   ]
  },
  {
   "cell_type": "markdown",
   "metadata": {},
   "source": [
    "### Multiple Parameters\n"
   ]
  },
  {
   "cell_type": "code",
   "execution_count": 4,
   "metadata": {},
   "outputs": [
    {
     "data": {
      "text/plain": [
       "FunctionDefinition(name='add', parameters={'properties': {'x': {'type': 'number'}, 'y': {'type': 'number'}}, 'required': ['x', 'y'], 'type': 'object'}, description='Add x and y.')"
      ]
     },
     "execution_count": 4,
     "metadata": {},
     "output_type": "execute_result"
    }
   ],
   "source": [
    "def add(x: float, y: float):\n",
    "    \"\"\"Add x and y.\"\"\"\n",
    "    return x + y\n",
    "\n",
    "\n",
    "registry.register(add)"
   ]
  },
  {
   "cell_type": "markdown",
   "metadata": {},
   "source": [
    "### Optional Parameters\n"
   ]
  },
  {
   "cell_type": "code",
   "execution_count": 5,
   "metadata": {},
   "outputs": [
    {
     "data": {
      "text/plain": [
       "FunctionDefinition(name='add', parameters={'properties': {'x': {'type': 'number'}, 'y': {'default': 1, 'type': 'number'}}, 'required': ['x'], 'type': 'object'}, description='Add x and y.')"
      ]
     },
     "execution_count": 5,
     "metadata": {},
     "output_type": "execute_result"
    }
   ],
   "source": [
    "def add(x: float, y: float = 1):\n",
    "    \"\"\"Add x and y.\"\"\"\n",
    "    return x + y\n",
    "\n",
    "\n",
    "registry.register(add)"
   ]
  },
  {
   "cell_type": "markdown",
   "metadata": {},
   "source": [
    "## Registering Functions with Pydantic Models\n",
    "\n",
    "Pydantic Models give you all the benefits above _and_ much more:\n",
    "\n",
    "- Default values\n",
    "- Descriptions on parameters\n",
    "- Deeper type validation\n"
   ]
  },
  {
   "cell_type": "code",
   "execution_count": 6,
   "metadata": {},
   "outputs": [
    {
     "name": "stderr",
     "output_type": "stream",
     "text": [
      "/var/folders/r4/lz3zpzb528n55t008k22p4dh0000gn/T/ipykernel_79757/187773287.py:28: PydanticDeprecatedSince20: The `json` method is deprecated; use `model_dump_json` instead. Deprecated in Pydantic V2.0 to be removed in V3.0. See Pydantic V2 Migration Guide at https://errors.pydantic.dev/2.4/migration/\n",
      "  \"compound_interest\", CompoundInterestModel(principal=1000, rate=0.05, times_compounded=12, years=5).json()\n"
     ]
    },
    {
     "data": {
      "text/plain": [
       "1283.3586785035118"
      ]
     },
     "execution_count": 6,
     "metadata": {},
     "output_type": "execute_result"
    }
   ],
   "source": [
    "from chatlab import FunctionRegistry\n",
    "from pydantic import BaseModel\n",
    "\n",
    "registry = FunctionRegistry()\n",
    "\n",
    "\n",
    "class CompoundInterestModel(BaseModel):\n",
    "    principal: float\n",
    "    rate: float\n",
    "    times_compounded: int\n",
    "    years: float\n",
    "\n",
    "\n",
    "@registry.register(parameter_schema=CompoundInterestModel)\n",
    "def compound_interest(principal: float, rate: float, times_compounded: int, years: float) -> float:\n",
    "    \"\"\"\n",
    "    Calculates the future value of an investment using compound interest.\n",
    "    :param principal: Initial investment amount\n",
    "    :param rate: Annual interest rate (as a decimal)\n",
    "    :param times_compounded: Number of times interest is compounded per year\n",
    "    :param years: Number of years the money is invested\n",
    "    :return: Future value of the investment\n",
    "    \"\"\"\n",
    "    return principal * (1 + rate / times_compounded) ** (times_compounded * years)\n",
    "\n",
    "\n",
    "await registry.call(\n",
    "    \"compound_interest\",\n",
    "    CompoundInterestModel(principal=1000, rate=0.05, times_compounded=12, years=5).model_dump_json(),\n",
    ")"
   ]
  },
  {
   "cell_type": "markdown",
   "metadata": {},
   "source": [
    "### Scratch Space\n",
    "\n",
    "If you made it this far, **you're probably ready to start writing your own functions**. This notebook is a scratch space for you to try out your functions and make sure they work as expected. You can also use this space to test out the functions that are already in the registry. That's what I'm going to do in the following cells.\n"
   ]
  },
  {
   "cell_type": "code",
   "execution_count": 7,
   "metadata": {},
   "outputs": [
    {
     "name": "stdout",
     "output_type": "stream",
     "text": [
      "{'functions': [{'name': 'plussle', 'parameters': {'properties': {'x': {'anyOf': [{'type': 'integer'}, {'type': 'number'}]}}, 'required': ['x'], 'type': 'object'}, 'description': 'Run this and you might find the secret constant added to x.'}, {'name': 'check_secret_number', 'parameters': {'properties': {'x': {'anyOf': [{'type': 'integer'}, {'type': 'number'}]}}, 'required': ['x'], 'type': 'object'}, 'description': 'Check if the secret number is correct.'}], 'function_call': 'auto'}\n"
     ]
    },
    {
     "data": {
      "text/html": [
       "<div><style>.chatlab-chat-details summary &gt; *  { display: inline; color: #27374D; }</style><details style=\"background: #DDE6ED; border-radius: 5px; padding: .5rem 1rem\" className=\"chatlab-chat-details\"><summary style=\"color: #27374D; cursor: pointer\"><span style=\"color: #9DB2BF; padding-left: 5px; padding-right: 5px\">𝑓</span><span style=\"color: #27374D; padding-left: 5px; padding-right: 5px\">Ran</span><span style=\"font-family: monospace; unicode-bidi: embed; white-space: pre\">plussle</span><span style=\"font-family: monospace; unicode-bidi: embed; white-space: pre\"></span></summary><div style=\"margin-left: 10px; margin-top: 10px\"><div><div style=\"color: #27374D; font-weight: 500; margin-bottom: 5px\">Input:</div><div style=\"background: #F7F9FA; color: #27374D; font-family: monospace; margin-bottom: 10px; overflow-x: auto; padding: 10px; unicode-bidi: embed; white-space: pre\">{\n",
       "  &quot;x&quot;: 5\n",
       "}</div></div><div><div style=\"color: #27374D; font-weight: 500; margin-bottom: 5px\">Output:</div><div style=\"background: #F7F9FA; color: #27374D; font-family: monospace; margin-bottom: 10px; overflow-x: auto; padding: 10px; unicode-bidi: embed; white-space: pre\">47</div></div></div></details></div>"
      ],
      "text/plain": [
       "<chatlab.display.ChatFunctionCall at 0x106d1ea10>"
      ]
     },
     "metadata": {},
     "output_type": "display_data"
    },
    {
     "data": {
      "text/markdown": [
       "The secret constant added to the number 5 is 47."
      ],
      "text/plain": [
       "The secret constant added to the number 5 is 47."
      ]
     },
     "metadata": {
      "text/markdown": {
       "chatlab": {
        "default": true
       }
      }
     },
     "output_type": "display_data"
    },
    {
     "data": {
      "text/html": [
       "<div><style>.chatlab-chat-details summary &gt; *  { display: inline; color: #27374D; }</style><details style=\"background: #DDE6ED; border-radius: 5px; padding: .5rem 1rem\" className=\"chatlab-chat-details\"><summary style=\"color: #27374D; cursor: pointer\"><span style=\"color: #9DB2BF; padding-left: 5px; padding-right: 5px\">𝑓</span><span style=\"color: #27374D; padding-left: 5px; padding-right: 5px\">Ran</span><span style=\"font-family: monospace; unicode-bidi: embed; white-space: pre\">check_secret_number</span><span style=\"font-family: monospace; unicode-bidi: embed; white-space: pre\"></span></summary><div style=\"margin-left: 10px; margin-top: 10px\"><div><div style=\"color: #27374D; font-weight: 500; margin-bottom: 5px\">Input:</div><div style=\"background: #F7F9FA; color: #27374D; font-family: monospace; margin-bottom: 10px; overflow-x: auto; padding: 10px; unicode-bidi: embed; white-space: pre\">{\n",
       "  &quot;x&quot;: 5\n",
       "}</div></div><div><div style=\"color: #27374D; font-weight: 500; margin-bottom: 5px\">Output:</div><div style=\"background: #F7F9FA; color: #27374D; font-family: monospace; margin-bottom: 10px; overflow-x: auto; padding: 10px; unicode-bidi: embed; white-space: pre\">False</div></div></div></details></div>"
      ],
      "text/plain": [
       "<chatlab.display.ChatFunctionCall at 0x115b4c390>"
      ]
     },
     "metadata": {},
     "output_type": "display_data"
    },
    {
     "data": {
      "text/markdown": [
       "The secret constant I determined is incorrect."
      ],
      "text/plain": [
       "The secret constant I determined is incorrect."
      ]
     },
     "metadata": {
      "text/markdown": {
       "chatlab": {
        "default": true
       }
      }
     },
     "output_type": "display_data"
    },
    {
     "data": {
      "text/html": [
       "<div><style>.chatlab-chat-details summary &gt; *  { display: inline; color: #27374D; }</style><details style=\"background: #DDE6ED; border-radius: 5px; padding: .5rem 1rem\" className=\"chatlab-chat-details\"><summary style=\"color: #27374D; cursor: pointer\"><span style=\"color: #9DB2BF; padding-left: 5px; padding-right: 5px\">𝑓</span><span style=\"color: #27374D; padding-left: 5px; padding-right: 5px\">Ran</span><span style=\"font-family: monospace; unicode-bidi: embed; white-space: pre\">check_secret_number</span><span style=\"font-family: monospace; unicode-bidi: embed; white-space: pre\"></span></summary><div style=\"margin-left: 10px; margin-top: 10px\"><div><div style=\"color: #27374D; font-weight: 500; margin-bottom: 5px\">Input:</div><div style=\"background: #F7F9FA; color: #27374D; font-family: monospace; margin-bottom: 10px; overflow-x: auto; padding: 10px; unicode-bidi: embed; white-space: pre\">{\n",
       "  &quot;x&quot;: 47\n",
       "}</div></div><div><div style=\"color: #27374D; font-weight: 500; margin-bottom: 5px\">Output:</div><div style=\"background: #F7F9FA; color: #27374D; font-family: monospace; margin-bottom: 10px; overflow-x: auto; padding: 10px; unicode-bidi: embed; white-space: pre\">False</div></div></div></details></div>"
      ],
      "text/plain": [
       "<chatlab.display.ChatFunctionCall at 0x115b5fdd0>"
      ]
     },
     "metadata": {},
     "output_type": "display_data"
    },
    {
     "data": {
      "text/markdown": [
       "I apologize for the incorrect secret constant. It seems that the secret number is not 47."
      ],
      "text/plain": [
       "I apologize for the incorrect secret constant. It seems that the secret number is not 47."
      ]
     },
     "metadata": {
      "text/markdown": {
       "chatlab": {
        "default": true
       }
      }
     },
     "output_type": "display_data"
    },
    {
     "data": {
      "text/markdown": [
       "I apologize for the incorrect determination of the secret constant. It seems that my initial guess was incorrect. I will need to reassess and try again to determine the correct secret constant. Thank you for bringing this to my attention."
      ],
      "text/plain": [
       "I apologize for the incorrect determination of the secret constant. It seems that my initial guess was incorrect. I will need to reassess and try again to determine the correct secret constant. Thank you for bringing this to my attention."
      ]
     },
     "metadata": {
      "text/markdown": {
       "chatlab": {
        "default": true
       }
      }
     },
     "output_type": "display_data"
    },
    {
     "data": {
      "text/markdown": [
       "I apologize for the incorrect determination of the secret constant. It seems that my initial guess was incorrect. I will need to reassess and try again to determine the correct secret constant. Thank you for bringing this to my attention."
      ],
      "text/plain": [
       "I apologize for the incorrect determination of the secret constant. It seems that my initial guess was incorrect. I will need to reassess and try again to determine the correct secret constant. Thank you for bringing this to my attention."
      ]
     },
     "metadata": {
      "text/markdown": {
       "chatlab": {
        "default": true
       }
      }
     },
     "output_type": "display_data"
    }
   ],
   "source": [
    "registry = FunctionRegistry()\n",
    "\n",
    "@registry.register\n",
    "@expose_exception_to_llm\n",
    "def plussle(x: Union[int, float]):\n",
    "    \"\"\"Run this and you might find the secret constant added to x.\"\"\"\n",
    "    return x + 42\n",
    "\n",
    "\n",
    "@registry.register\n",
    "@expose_exception_to_llm\n",
    "def check_secret_number(x: Union[int, float]):\n",
    "    \"\"\"Check if the secret number is correct.\"\"\"\n",
    "    return x == 42\n",
    "\n",
    "\n",
    "print(registry.api_manifest())\n",
    "\n",
    "\n",
    "chat = Chat(\n",
    "    function_registry=registry,\n",
    ")\n",
    "await chat(\"Run plussle with a number to determine the secret constant.\")\n",
    "await chat(\"Verify the secret you determined.\")\n",
    "await chat()\n",
    "await chat(\"Critique your performance.\")\n",
    "await chat()"
   ]
  },
  {
   "cell_type": "code",
   "execution_count": 8,
   "metadata": {},
   "outputs": [
    {
     "name": "stdout",
     "output_type": "stream",
     "text": [
      "{'functions': [{'name': 'plussle', 'parameters': {'properties': {'x': {'anyOf': [{'type': 'integer'}, {'type': 'number'}, {'type': 'null'}], 'default': None}}, 'type': 'object', 'required': []}, 'description': 'Run this and you might find the secret constant added to x.'}, {'name': 'check_secret_number', 'parameters': {'properties': {'x': {'anyOf': [{'type': 'integer'}, {'type': 'number'}]}}, 'required': ['x'], 'type': 'object'}, 'description': 'Check if the secret number is correct.'}], 'function_call': 'auto'}\n"
     ]
    },
    {
     "data": {
      "text/html": [
       "<div><style>.chatlab-chat-details summary &gt; *  { display: inline; color: #27374D; }</style><details style=\"background: #DDE6ED; border-radius: 5px; padding: .5rem 1rem\" className=\"chatlab-chat-details\"><summary style=\"color: #27374D; cursor: pointer\"><span style=\"color: #9DB2BF; padding-left: 5px; padding-right: 5px\">𝑓</span><span style=\"color: #27374D; padding-left: 5px; padding-right: 5px\">Ran</span><span style=\"font-family: monospace; unicode-bidi: embed; white-space: pre\">plussle</span><span style=\"font-family: monospace; unicode-bidi: embed; white-space: pre\"></span></summary><div style=\"margin-left: 10px; margin-top: 10px\"><div><div style=\"color: #27374D; font-weight: 500; margin-bottom: 5px\">Input:</div><div style=\"background: #F7F9FA; color: #27374D; font-family: monospace; margin-bottom: 10px; overflow-x: auto; padding: 10px; unicode-bidi: embed; white-space: pre\">{\n",
       "  &quot;x&quot;: 5\n",
       "}</div></div><div><div style=\"color: #27374D; font-weight: 500; margin-bottom: 5px\">Output:</div><div style=\"background: #F7F9FA; color: #27374D; font-family: monospace; margin-bottom: 10px; overflow-x: auto; padding: 10px; unicode-bidi: embed; white-space: pre\">47</div></div></div></details></div>"
      ],
      "text/plain": [
       "<chatlab.display.ChatFunctionCall at 0x115f62610>"
      ]
     },
     "metadata": {},
     "output_type": "display_data"
    },
    {
     "data": {
      "text/markdown": [
       "The secret constant added to the number 5 is 47."
      ],
      "text/plain": [
       "The secret constant added to the number 5 is 47."
      ]
     },
     "metadata": {
      "text/markdown": {
       "chatlab": {
        "default": true
       }
      }
     },
     "output_type": "display_data"
    },
    {
     "data": {
      "text/html": [
       "<div><style>.chatlab-chat-details summary &gt; *  { display: inline; color: #27374D; }</style><details style=\"background: #DDE6ED; border-radius: 5px; padding: .5rem 1rem\" className=\"chatlab-chat-details\"><summary style=\"color: #27374D; cursor: pointer\"><span style=\"color: #9DB2BF; padding-left: 5px; padding-right: 5px\">𝑓</span><span style=\"color: #27374D; padding-left: 5px; padding-right: 5px\">Ran</span><span style=\"font-family: monospace; unicode-bidi: embed; white-space: pre\">check_secret_number</span><span style=\"font-family: monospace; unicode-bidi: embed; white-space: pre\"></span></summary><div style=\"margin-left: 10px; margin-top: 10px\"><div><div style=\"color: #27374D; font-weight: 500; margin-bottom: 5px\">Input:</div><div style=\"background: #F7F9FA; color: #27374D; font-family: monospace; margin-bottom: 10px; overflow-x: auto; padding: 10px; unicode-bidi: embed; white-space: pre\">{\n",
       "  &quot;x&quot;: 5\n",
       "}</div></div><div><div style=\"color: #27374D; font-weight: 500; margin-bottom: 5px\">Output:</div><div style=\"background: #F7F9FA; color: #27374D; font-family: monospace; margin-bottom: 10px; overflow-x: auto; padding: 10px; unicode-bidi: embed; white-space: pre\">False</div></div></div></details></div>"
      ],
      "text/plain": [
       "<chatlab.display.ChatFunctionCall at 0x115fc47d0>"
      ]
     },
     "metadata": {},
     "output_type": "display_data"
    },
    {
     "data": {
      "text/markdown": [
       "I apologize, but it seems that the secret constant I determined is incorrect."
      ],
      "text/plain": [
       "I apologize, but it seems that the secret constant I determined is incorrect."
      ]
     },
     "metadata": {
      "text/markdown": {
       "chatlab": {
        "default": true
       }
      }
     },
     "output_type": "display_data"
    },
    {
     "data": {
      "text/html": [
       "<div><style>.chatlab-chat-details summary &gt; *  { display: inline; color: #27374D; }</style><details style=\"background: #DDE6ED; border-radius: 5px; padding: .5rem 1rem\" className=\"chatlab-chat-details\"><summary style=\"color: #27374D; cursor: pointer\"><span style=\"color: #9DB2BF; padding-left: 5px; padding-right: 5px\">𝑓</span><span style=\"color: #27374D; padding-left: 5px; padding-right: 5px\">Ran</span><span style=\"font-family: monospace; unicode-bidi: embed; white-space: pre\">plussle</span><span style=\"font-family: monospace; unicode-bidi: embed; white-space: pre\"></span></summary><div style=\"margin-left: 10px; margin-top: 10px\"><div><div style=\"color: #27374D; font-weight: 500; margin-bottom: 5px\">Input:</div><div style=\"background: #F7F9FA; color: #27374D; font-family: monospace; margin-bottom: 10px; overflow-x: auto; padding: 10px; unicode-bidi: embed; white-space: pre\">{\n",
       "  &quot;x&quot;: 10\n",
       "}</div></div><div><div style=\"color: #27374D; font-weight: 500; margin-bottom: 5px\">Output:</div><div style=\"background: #F7F9FA; color: #27374D; font-family: monospace; margin-bottom: 10px; overflow-x: auto; padding: 10px; unicode-bidi: embed; white-space: pre\">52</div></div></div></details></div>"
      ],
      "text/plain": [
       "<chatlab.display.ChatFunctionCall at 0x115bb4350>"
      ]
     },
     "metadata": {},
     "output_type": "display_data"
    },
    {
     "data": {
      "text/markdown": [
       "The secret constant added to the number 10 is 52."
      ],
      "text/plain": [
       "The secret constant added to the number 10 is 52."
      ]
     },
     "metadata": {
      "text/markdown": {
       "chatlab": {
        "default": true
       }
      }
     },
     "output_type": "display_data"
    },
    {
     "data": {
      "text/markdown": [
       "I apologize for the incorrect determination of the secret constant in my previous response. It seems that my initial guess was incorrect. I will try to improve my performance and provide more accurate results in the future. Thank you for bringing this to my attention."
      ],
      "text/plain": [
       "I apologize for the incorrect determination of the secret constant in my previous response. It seems that my initial guess was incorrect. I will try to improve my performance and provide more accurate results in the future. Thank you for bringing this to my attention."
      ]
     },
     "metadata": {
      "text/markdown": {
       "chatlab": {
        "default": true
       }
      }
     },
     "output_type": "display_data"
    },
    {
     "data": {
      "text/markdown": [
       "I apologize for the incorrect determination of the secret constant. It seems that my initial guess was incorrect. I understand that accuracy is crucial in providing reliable information, and I apologize for any confusion or inconvenience caused. I will make sure to improve my performance and provide more accurate results in the future. Thank you for bringing this to my attention, and I appreciate your understanding."
      ],
      "text/plain": [
       "I apologize for the incorrect determination of the secret constant. It seems that my initial guess was incorrect. I understand that accuracy is crucial in providing reliable information, and I apologize for any confusion or inconvenience caused. I will make sure to improve my performance and provide more accurate results in the future. Thank you for bringing this to my attention, and I appreciate your understanding."
      ]
     },
     "metadata": {
      "text/markdown": {
       "chatlab": {
        "default": true
       }
      }
     },
     "output_type": "display_data"
    }
   ],
   "source": [
    "registry = FunctionRegistry()\n",
    "\n",
    "@registry.register\n",
    "@expose_exception_to_llm\n",
    "def plussle2(x: Optional[Union[int, float]] = None):\n",
    "    \"\"\"Run this and you might find the secret constant added to x.\"\"\"\n",
    "    if x is None:\n",
    "        return \"You need to pass a number to plussle2.\"\n",
    "\n",
    "    return x + 42\n",
    "\n",
    "\n",
    "@registry.register\n",
    "@expose_exception_to_llm\n",
    "def check_secret_number2(x: Union[int, float]):\n",
    "    \"\"\"Check if the secret number is correct.\"\"\"\n",
    "    return x == 42\n",
    "\n",
    "\n",
    "print(registry.api_manifest())\n",
    "\n",
    "\n",
    "chat = Chat(\n",
    "    function_registry=registry,\n",
    ")\n",
    "await chat(\"Run plussle with a number to determine the secret constant.\")\n",
    "await chat(\"Verify the secret you determined.\")\n",
    "await chat()\n",
    "await chat(\"Critique your performance.\")\n",
    "await chat()"
   ]
  },
  {
   "cell_type": "code",
   "execution_count": 9,
   "metadata": {},
   "outputs": [
    {
     "data": {
      "text/plain": [
       "1"
      ]
     },
     "execution_count": 9,
     "metadata": {},
     "output_type": "execute_result"
    }
   ],
   "source": [
    "registry = FunctionRegistry()\n",
    "\n",
    "\n",
    "@registry.register\n",
    "def poppy(x: list):\n",
    "    \"\"\"pop off\"\"\"\n",
    "    return x[0]\n",
    "\n",
    "\n",
    "await registry.call(\"poppy\", '{\"x\": [1, 2, 3]}')"
   ]
  },
  {
   "cell_type": "code",
   "execution_count": 10,
   "metadata": {},
   "outputs": [
    {
     "name": "stdout",
     "output_type": "stream",
     "text": [
      "FunctionDefinition(name='poppy', parameters={'properties': {'x': {'items': {'anyOf': [{'type': 'number'}, {'type': 'integer'}]}, 'type': 'array'}}, 'required': ['x'], 'type': 'object'}, description='another')\n"
     ]
    },
    {
     "data": {
      "text/plain": [
       "1"
      ]
     },
     "execution_count": 10,
     "metadata": {},
     "output_type": "execute_result"
    }
   ],
   "source": [
    "registry = FunctionRegistry()\n",
    "\n",
    "\n",
    "@registry.register\n",
    "def pop_off(x: List[Union[float, int]]):\n",
    "    \"\"\"another\"\"\"\n",
    "    return x[0]\n",
    "\n",
    "\n",
    "print(registry.get_schema(\"pop_off\"))\n",
    "\n",
    "await registry.call(\"pop_off\", '{\"x\": [1, 2, 3]}')"
   ]
  },
  {
   "cell_type": "code",
   "execution_count": 11,
   "metadata": {},
   "outputs": [
    {
     "name": "stdout",
     "output_type": "stream",
     "text": [
      "FunctionDefinition(name='example', parameters={'properties': {'data': {'type': 'object'}}, 'required': ['data'], 'type': 'object'}, description='testing if the llm can figure out the parameters')\n",
      "{'functions': [{'name': 'example', 'parameters': {'properties': {'data': {'type': 'object'}}, 'required': ['data'], 'type': 'object'}, 'description': 'testing if the llm can figure out the parameters'}], 'function_call': 'auto'}\n"
     ]
    },
    {
     "data": {
      "text/html": [
       "<div><style>.chatlab-chat-details summary &gt; *  { display: inline; color: #27374D; }</style><details style=\"background: #DDE6ED; border-radius: 5px; padding: .5rem 1rem\" className=\"chatlab-chat-details\"><summary style=\"color: #27374D; cursor: pointer\"><span style=\"color: #9DB2BF; padding-left: 5px; padding-right: 5px\">𝑓</span><span style=\"color: #27374D; padding-left: 5px; padding-right: 5px\">Errored</span><span style=\"font-family: monospace; unicode-bidi: embed; white-space: pre\">example</span><span style=\"font-family: monospace; unicode-bidi: embed; white-space: pre\"></span></summary><div style=\"margin-left: 10px; margin-top: 10px\"><div><div style=\"color: #27374D; font-weight: 500; margin-bottom: 5px\">Input:</div><div style=\"background: #F7F9FA; color: #27374D; font-family: monospace; margin-bottom: 10px; overflow-x: auto; padding: 10px; unicode-bidi: embed; white-space: pre\">{}</div></div><div><div style=\"color: #27374D; font-weight: 500; margin-bottom: 5px\">Output:</div><div style=\"background: #F7F9FA; color: #27374D; font-family: monospace; margin-bottom: 10px; overflow-x: auto; padding: 10px; unicode-bidi: embed; white-space: pre\">TypeError(&quot;example() missing 1 required positional argument: &#x27;data&#x27;&quot;)</div></div></div></details></div>"
      ],
      "text/plain": [
       "<chatlab.display.ChatFunctionCall at 0x11653a310>"
      ]
     },
     "metadata": {},
     "output_type": "display_data"
    },
    {
     "data": {
      "text/markdown": [
       "It seems that the `example` function requires a parameter called `data`. Let me try calling it with a valid value."
      ],
      "text/plain": [
       "It seems that the `example` function requires a parameter called `data`. Let me try calling it with a valid value."
      ]
     },
     "metadata": {
      "text/markdown": {
       "chatlab": {
        "default": true
       }
      }
     },
     "output_type": "display_data"
    },
    {
     "data": {
      "text/html": [
       "<div><style>.chatlab-chat-details summary &gt; *  { display: inline; color: #27374D; }</style><details style=\"background: #DDE6ED; border-radius: 5px; padding: .5rem 1rem\" className=\"chatlab-chat-details\"><summary style=\"color: #27374D; cursor: pointer\"><span style=\"color: #9DB2BF; padding-left: 5px; padding-right: 5px\">𝑓</span><span style=\"color: #27374D; padding-left: 5px; padding-right: 5px\">Errored</span><span style=\"font-family: monospace; unicode-bidi: embed; white-space: pre\">example</span><span style=\"font-family: monospace; unicode-bidi: embed; white-space: pre\"></span></summary><div style=\"margin-left: 10px; margin-top: 10px\"><div><div style=\"color: #27374D; font-weight: 500; margin-bottom: 5px\">Input:</div><div style=\"background: #F7F9FA; color: #27374D; font-family: monospace; margin-bottom: 10px; overflow-x: auto; padding: 10px; unicode-bidi: embed; white-space: pre\">{\n",
       "  &quot;data&quot;: &quot;Hello, World!&quot;\n",
       "}</div></div><div><div style=\"color: #27374D; font-weight: 500; margin-bottom: 5px\">Output:</div><div style=\"background: #F7F9FA; color: #27374D; font-family: monospace; margin-bottom: 10px; overflow-x: auto; padding: 10px; unicode-bidi: embed; white-space: pre\">AttributeError(&quot;&#x27;str&#x27; object has no attribute &#x27;keys&#x27;&quot;)</div></div></div></details></div>"
      ],
      "text/plain": [
       "<chatlab.display.ChatFunctionCall at 0x115faa510>"
      ]
     },
     "metadata": {},
     "output_type": "display_data"
    },
    {
     "data": {
      "text/markdown": [
       "Apologies for the confusion. It seems that the `example` function expects the `data` parameter to be an object with keys. Let me try calling it with a valid object."
      ],
      "text/plain": [
       "Apologies for the confusion. It seems that the `example` function expects the `data` parameter to be an object with keys. Let me try calling it with a valid object."
      ]
     },
     "metadata": {
      "text/markdown": {
       "chatlab": {
        "default": true
       }
      }
     },
     "output_type": "display_data"
    },
    {
     "data": {
      "text/html": [
       "<div><style>.chatlab-chat-details summary &gt; *  { display: inline; color: #27374D; }</style><details style=\"background: #DDE6ED; border-radius: 5px; padding: .5rem 1rem\" className=\"chatlab-chat-details\"><summary style=\"color: #27374D; cursor: pointer\"><span style=\"color: #9DB2BF; padding-left: 5px; padding-right: 5px\">𝑓</span><span style=\"color: #27374D; padding-left: 5px; padding-right: 5px\">Ran</span><span style=\"font-family: monospace; unicode-bidi: embed; white-space: pre\">example</span><span style=\"font-family: monospace; unicode-bidi: embed; white-space: pre\"></span></summary><div style=\"margin-left: 10px; margin-top: 10px\"><div><div style=\"color: #27374D; font-weight: 500; margin-bottom: 5px\">Input:</div><div style=\"background: #F7F9FA; color: #27374D; font-family: monospace; margin-bottom: 10px; overflow-x: auto; padding: 10px; unicode-bidi: embed; white-space: pre\">{\n",
       "  &quot;data&quot;: {\n",
       "    &quot;name&quot;: &quot;John&quot;,\n",
       "    &quot;age&quot;: 30\n",
       "  }\n",
       "}</div></div><div><div style=\"color: #27374D; font-weight: 500; margin-bottom: 5px\">Output:</div><div style=\"background: #F7F9FA; color: #27374D; font-family: monospace; margin-bottom: 10px; overflow-x: auto; padding: 10px; unicode-bidi: embed; white-space: pre\">dict_keys([&#x27;name&#x27;, &#x27;age&#x27;])</div></div></div></details></div>"
      ],
      "text/plain": [
       "<chatlab.display.ChatFunctionCall at 0x106d7dc50>"
      ]
     },
     "metadata": {},
     "output_type": "display_data"
    },
    {
     "data": {
      "text/markdown": [
       "The `example` function was successfully called with a valid object. It returned the keys of the object, which are `name` and `age`."
      ],
      "text/plain": [
       "The `example` function was successfully called with a valid object. It returned the keys of the object, which are `name` and `age`."
      ]
     },
     "metadata": {
      "text/markdown": {
       "chatlab": {
        "default": true
       }
      }
     },
     "output_type": "display_data"
    }
   ],
   "source": [
    "registry = FunctionRegistry()\n",
    "\n",
    "@registry.register\n",
    "@expose_exception_to_llm\n",
    "def example(data: dict):\n",
    "    \"\"\"testing if the llm can figure out the parameters\"\"\"\n",
    "    return data.keys()\n",
    "\n",
    "\n",
    "print(registry.get_schema(\"example\"))\n",
    "\n",
    "print(registry.api_manifest())\n",
    "\n",
    "chat = Chat(function_registry=registry)\n",
    "\n",
    "await chat(\"can you call `example` with something valid? Please figure out what datatype works\")"
   ]
  },
  {
   "cell_type": "code",
   "execution_count": 13,
   "metadata": {},
   "outputs": [
    {
     "data": {
      "application/json": {
       "function_call": "auto",
       "functions": [
        {
         "description": "Create a cell",
         "name": "create_cell",
         "parameters": {
          "$defs": {
           "CellType": {
            "enum": [
             1,
             2
            ],
            "title": "CellType",
            "type": "integer"
           }
          },
          "properties": {
           "cell_type": {
            "$ref": "#/$defs/CellType"
           },
           "metadata": {
            "default": null,
            "type": "object"
           },
           "source": {
            "type": "string"
           }
          },
          "required": [
           "cell_type",
           "source"
          ],
          "type": "object"
         }
        }
       ]
      },
      "text/plain": [
       "<IPython.core.display.JSON object>"
      ]
     },
     "metadata": {
      "application/json": {
       "expanded": false,
       "root": "root"
      }
     },
     "output_type": "display_data"
    },
    {
     "data": {
      "text/html": [
       "<div><style>.chatlab-chat-details summary &gt; *  { display: inline; color: #27374D; }</style><details style=\"background: #DDE6ED; border-radius: 5px; padding: .5rem 1rem\" className=\"chatlab-chat-details\"><summary style=\"color: #27374D; cursor: pointer\"><span style=\"color: #9DB2BF; padding-left: 5px; padding-right: 5px\">𝑓</span><span style=\"color: #27374D; padding-left: 5px; padding-right: 5px\">Ran</span><span style=\"font-family: monospace; unicode-bidi: embed; white-space: pre\">create_cell</span><span style=\"font-family: monospace; unicode-bidi: embed; white-space: pre\"></span></summary><div style=\"margin-left: 10px; margin-top: 10px\"><div><div style=\"color: #27374D; font-weight: 500; margin-bottom: 5px\">Input:</div><div style=\"background: #F7F9FA; color: #27374D; font-family: monospace; margin-bottom: 10px; overflow-x: auto; padding: 10px; unicode-bidi: embed; white-space: pre\">{\n",
       "  &quot;cell_type&quot;: &quot;markdown&quot;,\n",
       "  &quot;source&quot;: &quot;## Chat Description\\n\\nThis chat is a conversation between a user and an assistant. The user can ask questions or give instructions, and the assistant will respond accordingly.\\n&quot;\n",
       "}</div></div><div><div style=\"color: #27374D; font-weight: 500; margin-bottom: 5px\">Output:</div><div style=\"background: #F7F9FA; color: #27374D; font-family: monospace; margin-bottom: 10px; overflow-x: auto; padding: 10px; unicode-bidi: embed; white-space: pre\">{&#x27;cell_type&#x27;: &#x27;markdown&#x27;, &#x27;source&#x27;: &#x27;## Chat Description\\n\\nThis chat is a conversation between a user and an assistant. The user can ask questions or give instructions, and the assistant will respond accordingly.\\n&#x27;, &#x27;metadata&#x27;: None}</div></div></div></details></div>"
      ],
      "text/plain": [
       "<chatlab.display.ChatFunctionCall at 0x116b63710>"
      ]
     },
     "metadata": {},
     "output_type": "display_data"
    },
    {
     "data": {
      "text/html": [
       "<div><style>.chatlab-chat-details summary &gt; *  { display: inline; color: #27374D; }</style><details style=\"background: #DDE6ED; border-radius: 5px; padding: .5rem 1rem\" className=\"chatlab-chat-details\"><summary style=\"color: #27374D; cursor: pointer\"><span style=\"color: #9DB2BF; padding-left: 5px; padding-right: 5px\">𝑓</span><span style=\"color: #27374D; padding-left: 5px; padding-right: 5px\">Ran</span><span style=\"font-family: monospace; unicode-bidi: embed; white-space: pre\">create_cell</span><span style=\"font-family: monospace; unicode-bidi: embed; white-space: pre\"></span></summary><div style=\"margin-left: 10px; margin-top: 10px\"><div><div style=\"color: #27374D; font-weight: 500; margin-bottom: 5px\">Input:</div><div style=\"background: #F7F9FA; color: #27374D; font-family: monospace; margin-bottom: 10px; overflow-x: auto; padding: 10px; unicode-bidi: embed; white-space: pre\">{\n",
       "  &quot;cell_type&quot;: &quot;code&quot;,\n",
       "  &quot;source&quot;: &quot;print(&#x27;Hello, world!&#x27;)&quot;\n",
       "}</div></div><div><div style=\"color: #27374D; font-weight: 500; margin-bottom: 5px\">Output:</div><div style=\"background: #F7F9FA; color: #27374D; font-family: monospace; margin-bottom: 10px; overflow-x: auto; padding: 10px; unicode-bidi: embed; white-space: pre\">{&#x27;cell_type&#x27;: &#x27;code&#x27;, &#x27;source&#x27;: &quot;print(&#x27;Hello, world!&#x27;)&quot;, &#x27;metadata&#x27;: None}</div></div></div></details></div>"
      ],
      "text/plain": [
       "<chatlab.display.ChatFunctionCall at 0x116b7ec90>"
      ]
     },
     "metadata": {},
     "output_type": "display_data"
    },
    {
     "data": {
      "text/markdown": [
       "I have created a markdown cell that describes this chat and a code cell that contains a simple print statement."
      ],
      "text/plain": [
       "I have created a markdown cell that describes this chat and a code cell that contains a simple print statement."
      ]
     },
     "metadata": {
      "text/markdown": {
       "chatlab": {
        "default": true
       }
      }
     },
     "output_type": "display_data"
    }
   ],
   "source": [
    "from enum import Enum, auto\n",
    "\n",
    "\n",
    "class CellType(Enum):\n",
    "    markdown = auto()\n",
    "    code = auto()\n",
    "\n",
    "registry = FunctionRegistry()\n",
    "\n",
    "\n",
    "@registry.register\n",
    "@expose_exception_to_llm\n",
    "def create_cell(cell_type: CellType, source: str, metadata: Optional[dict] = None) -> dict:\n",
    "    \"\"\"Create a cell\"\"\"\n",
    "    return {\"cell_type\": cell_type, \"source\": source, \"metadata\": metadata}\n",
    "\n",
    "\n",
    "display(JSON(registry.api_manifest()))\n",
    "\n",
    "chat = Chat(function_registry=registry)\n",
    "\n",
    "await chat(\"Create a markdown cell describing this chat and then a code cell that does a simple print statement\")"
   ]
  }
 ],
 "metadata": {
  "kernelspec": {
   "display_name": "Python 3 (ipykernel)",
   "language": "python",
   "name": "python3"
  },
  "language_info": {
   "codemirror_mode": {
    "name": "ipython",
    "version": 3
   },
   "file_extension": ".py",
   "mimetype": "text/x-python",
   "name": "python",
   "nbconvert_exporter": "python",
   "pygments_lexer": "ipython3",
   "version": "3.11.7"
  }
 },
 "nbformat": 4,
 "nbformat_minor": 2
}
