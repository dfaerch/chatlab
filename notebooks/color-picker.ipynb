{
 "cells": [
  {
   "cell_type": "code",
   "execution_count": 1,
   "metadata": {},
   "outputs": [],
   "source": [
    "from chatlab import Chat, models, system\n",
    "from chatlab.tools.colors import show_colors\n",
    "\n",
    "chat = Chat(\n",
    "    system(\"Format responses in markdown,. You are a skilled designer.\"),\n",
    "    chat_functions=[show_colors],\n",
    "    model=models.GPT_4_1106_PREVIEW,\n",
    ")"
   ]
  },
  {
   "cell_type": "code",
   "execution_count": 2,
   "metadata": {},
   "outputs": [
    {
     "data": {
      "application/vdom.v1+json": {
       "attributes": {},
       "children": [
        {
         "attributes": {},
         "children": [
          ".chatlab-chat-details summary > *  { display: inline; color: #27374D; }"
         ],
         "tagName": "style"
        },
        {
         "attributes": {
          "className": "chatlab-chat-details",
          "style": {
           "background": "#DDE6ED",
           "borderRadius": "5px",
           "padding": ".5rem 1rem"
          }
         },
         "children": [
          {
           "attributes": {
            "style": {
             "color": "#27374D",
             "cursor": "pointer"
            }
           },
           "children": [
            {
             "attributes": {
              "style": {
               "color": "#9DB2BF",
               "paddingLeft": "5px",
               "paddingRight": "5px"
              }
             },
             "children": [
              "𝑓"
             ],
             "tagName": "span"
            },
            {
             "attributes": {
              "style": {
               "color": "#27374D",
               "paddingLeft": "5px",
               "paddingRight": "5px"
              }
             },
             "children": [
              "Called"
             ],
             "tagName": "span"
            },
            {
             "attributes": {
              "style": {
               "fontFamily": "monospace",
               "unicodeBidi": "embed",
               "whiteSpace": "pre"
              }
             },
             "children": [
              "show_colors"
             ],
             "tagName": "span"
            },
            {
             "attributes": {
              "style": {
               "fontFamily": "monospace",
               "unicodeBidi": "embed",
               "whiteSpace": "pre"
              }
             },
             "children": [
              "..."
             ],
             "tagName": "span"
            }
           ],
           "tagName": "summary"
          },
          {
           "attributes": {
            "style": {
             "marginLeft": "10px",
             "marginTop": "10px"
            }
           },
           "children": [
            {
             "attributes": {},
             "children": [
              {
               "attributes": {
                "style": {
                 "color": "#27374D",
                 "fontWeight": "500",
                 "marginBottom": "5px"
                }
               },
               "children": [
                "Input:"
               ],
               "tagName": "div"
              },
              {
               "attributes": {
                "style": {
                 "background": "#F7F9FA",
                 "color": "#27374D",
                 "fontFamily": "monospace",
                 "marginBottom": "10px",
                 "overflowX": "auto",
                 "padding": "10px",
                 "unicodeBidi": "embed",
                 "whiteSpace": "pre"
                }
               },
               "children": [
                "{\"colors\":[\"#1A1A1D\",\"#4E4E50\",\"#6F2232\",\"#950740\",\"#C3073F\",\"#6F2232\",\"#10A674\",\"#A7D129\",\"#4E4E50\",\"#6B6B6B\"]}"
               ],
               "tagName": "div"
              }
             ],
             "tagName": "div"
            },
            {
             "attributes": {},
             "children": [
              {
               "attributes": {
                "style": {
                 "color": "#27374D",
                 "fontWeight": "500",
                 "marginBottom": "5px"
                }
               },
               "children": [
                "Output:"
               ],
               "tagName": "div"
              },
              {
               "attributes": {
                "style": {
                 "background": "#F7F9FA",
                 "color": "#27374D",
                 "fontFamily": "monospace",
                 "marginBottom": "10px",
                 "overflowX": "auto",
                 "padding": "10px",
                 "unicodeBidi": "embed",
                 "whiteSpace": "pre"
                }
               },
               "children": [
                "Displayed colors for user."
               ],
               "tagName": "div"
              }
             ],
             "tagName": "div"
            }
           ],
           "tagName": "div"
          }
         ],
         "tagName": "details"
        }
       ],
       "tagName": "div"
      },
      "text/html": [
       "<div><style>.chatlab-chat-details summary &gt; *  { display: inline; color: #27374D; }</style><details style=\"background: #DDE6ED; border-radius: 5px; padding: .5rem 1rem\" className=\"chatlab-chat-details\"><summary style=\"color: #27374D; cursor: pointer\"><span style=\"color: #9DB2BF; padding-left: 5px; padding-right: 5px\">𝑓</span><span style=\"color: #27374D; padding-left: 5px; padding-right: 5px\">Called</span><span style=\"font-family: monospace; unicode-bidi: embed; white-space: pre\">show_colors</span><span style=\"font-family: monospace; unicode-bidi: embed; white-space: pre\">...</span></summary><div style=\"margin-left: 10px; margin-top: 10px\"><div><div style=\"color: #27374D; font-weight: 500; margin-bottom: 5px\">Input:</div><div style=\"background: #F7F9FA; color: #27374D; font-family: monospace; margin-bottom: 10px; overflow-x: auto; padding: 10px; unicode-bidi: embed; white-space: pre\">{&quot;colors&quot;:[&quot;#1A1A1D&quot;,&quot;#4E4E50&quot;,&quot;#6F2232&quot;,&quot;#950740&quot;,&quot;#C3073F&quot;,&quot;#6F2232&quot;,&quot;#10A674&quot;,&quot;#A7D129&quot;,&quot;#4E4E50&quot;,&quot;#6B6B6B&quot;]}</div></div><div><div style=\"color: #27374D; font-weight: 500; margin-bottom: 5px\">Output:</div><div style=\"background: #F7F9FA; color: #27374D; font-family: monospace; margin-bottom: 10px; overflow-x: auto; padding: 10px; unicode-bidi: embed; white-space: pre\">Displayed colors for user.</div></div></div></details></div>"
      ],
      "text/plain": [
       "<div><style>.chatlab-chat-details summary &gt; *  { display: inline; color: #27374D; }</style><details style=\"background: #DDE6ED; border-radius: 5px; padding: .5rem 1rem\" className=\"chatlab-chat-details\"><summary style=\"color: #27374D; cursor: pointer\"><span style=\"color: #9DB2BF; padding-left: 5px; padding-right: 5px\">𝑓</span><span style=\"color: #27374D; padding-left: 5px; padding-right: 5px\">Called</span><span style=\"font-family: monospace; unicode-bidi: embed; white-space: pre\">show_colors</span><span style=\"font-family: monospace; unicode-bidi: embed; white-space: pre\">...</span></summary><div style=\"margin-left: 10px; margin-top: 10px\"><div><div style=\"color: #27374D; font-weight: 500; margin-bottom: 5px\">Input:</div><div style=\"background: #F7F9FA; color: #27374D; font-family: monospace; margin-bottom: 10px; overflow-x: auto; padding: 10px; unicode-bidi: embed; white-space: pre\">{&quot;colors&quot;:[&quot;#1A1A1D&quot;,&quot;#4E4E50&quot;,&quot;#6F2232&quot;,&quot;#950740&quot;,&quot;#C3073F&quot;,&quot;#6F2232&quot;,&quot;#10A674&quot;,&quot;#A7D129&quot;,&quot;#4E4E50&quot;,&quot;#6B6B6B&quot;]}</div></div><div><div style=\"color: #27374D; font-weight: 500; margin-bottom: 5px\">Output:</div><div style=\"background: #F7F9FA; color: #27374D; font-family: monospace; margin-bottom: 10px; overflow-x: auto; padding: 10px; unicode-bidi: embed; white-space: pre\">Displayed colors for user.</div></div></div></details></div>"
      ]
     },
     "metadata": {},
     "output_type": "display_data"
    },
    {
     "data": {
      "text/html": [
       "<div><div style=\"background-color:#1A1A1D; width:50px; height:50px; display:inline-block;\"></div><div style=\"background-color:#4E4E50; width:50px; height:50px; display:inline-block;\"></div><div style=\"background-color:#6F2232; width:50px; height:50px; display:inline-block;\"></div><div style=\"background-color:#950740; width:50px; height:50px; display:inline-block;\"></div><div style=\"background-color:#C3073F; width:50px; height:50px; display:inline-block;\"></div><div style=\"background-color:#6F2232; width:50px; height:50px; display:inline-block;\"></div><div style=\"background-color:#10A674; width:50px; height:50px; display:inline-block;\"></div><div style=\"background-color:#A7D129; width:50px; height:50px; display:inline-block;\"></div><div style=\"background-color:#4E4E50; width:50px; height:50px; display:inline-block;\"></div><div style=\"background-color:#6B6B6B; width:50px; height:50px; display:inline-block;\"></div></div>"
      ],
      "text/plain": [
       "Palette(['#1A1A1D', '#4E4E50', '#6F2232', '#950740', '#C3073F', '#6F2232', '#10A674', '#A7D129', '#4E4E50', '#6B6B6B'], None)"
      ]
     },
     "metadata": {},
     "output_type": "display_data"
    },
    {
     "data": {
      "text/markdown": [
       "For a portfolio site with a dark theme, I've created a palette that balances dark shades with vibrant accents to highlight content and guide the user's attention. Here's the palette:\n",
       "\n",
       "1. **Background Base**: `#1A1A1D` - A deep, dark gray that provides a sleek and professional backdrop for your portfolio.\n",
       "2. **Secondary Background**: `#4E4E50` - A slightly lighter shade of gray for card backgrounds or secondary elements to create depth.\n",
       "3. **Accent Dark**: `#6F2232` - A dark, rich burgundy for subtle accents and to add a touch of sophistication.\n",
       "4. **Primary Accent**: `#950740` - A vibrant, darker red that can be used for call-to-action buttons or important highlights.\n",
       "5. **Secondary Accent**: `#C3073F` - A bright, attention-grabbing red for interactive elements or key information.\n",
       "6. **Highlight Accent**: `#10A674` - A fresh, lively green to signify success messages, completed actions, or to highlight portfolio pieces.\n",
       "7. **Complementary Accent**: `#A7D129` - A vibrant yellow-green for badges, tags, or to complement the primary accent.\n",
       "8. **Text Primary**: `#6B6B6B` - A medium gray for primary text, ensuring good readability against the dark background.\n",
       "\n",
       "This palette combines a strong, dark base with strategic pops of color to create visual interest and direct focus to important elements of the portfolio. The use of dark reds adds a layer of elegance, while the green and yellow-green provide a refreshing contrast that can be used to denote positivity and creativity."
      ],
      "text/plain": [
       "AssistantMessageView(display_id='7838bb08-66a2-45b7-abcc-3138f69fd25a', content=\"For a portfolio site with a dark theme, I've created a palette that balances dark shades with vibrant accents to highlight content and guide the user's attention. Here's the palette:\\n\\n1. **Background Base**: `#1A1A1D` - A deep, dark gray that provides a sleek and professional backdrop for your portfolio.\\n2. **Secondary Background**: `#4E4E50` - A slightly lighter shade of gray for card backgrounds or secondary elements to create depth.\\n3. **Accent Dark**: `#6F2232` - A dark, rich burgundy for subtle accents and to add a touch of sophistication.\\n4. **Primary Accent**: `#950740` - A vibrant, darker red that can be used for call-to-action buttons or important highlights.\\n5. **Secondary Accent**: `#C3073F` - A bright, attention-grabbing red for interactive elements or key information.\\n6. **Highlight Accent**: `#10A674` - A fresh, lively green to signify success messages, completed actions, or to highlight portfolio pieces.\\n7. **Complementary Accent**: `#A7D129` - A vibrant yellow-green for badges, tags, or to complement the primary accent.\\n8. **Text Primary**: `#6B6B6B` - A medium gray for primary text, ensuring good readability against the dark background.\\n\\nThis palette combines a strong, dark base with strategic pops of color to create visual interest and direct focus to important elements of the portfolio. The use of dark reds adds a layer of elegance, while the green and yellow-green provide a refreshing contrast that can be used to denote positivity and creativity.\", finished=False, has_displayed=True)"
      ]
     },
     "metadata": {},
     "output_type": "display_data"
    }
   ],
   "source": [
    "await chat(\"Create a palette for a portfolio site with a dark theme.\")"
   ]
  },
  {
   "cell_type": "code",
   "execution_count": 3,
   "metadata": {},
   "outputs": [
    {
     "data": {
      "application/vdom.v1+json": {
       "attributes": {},
       "children": [
        {
         "attributes": {},
         "children": [
          ".chatlab-chat-details summary > *  { display: inline; color: #27374D; }"
         ],
         "tagName": "style"
        },
        {
         "attributes": {
          "className": "chatlab-chat-details",
          "style": {
           "background": "#DDE6ED",
           "borderRadius": "5px",
           "padding": ".5rem 1rem"
          }
         },
         "children": [
          {
           "attributes": {
            "style": {
             "color": "#27374D",
             "cursor": "pointer"
            }
           },
           "children": [
            {
             "attributes": {
              "style": {
               "color": "#9DB2BF",
               "paddingLeft": "5px",
               "paddingRight": "5px"
              }
             },
             "children": [
              "𝑓"
             ],
             "tagName": "span"
            },
            {
             "attributes": {
              "style": {
               "color": "#27374D",
               "paddingLeft": "5px",
               "paddingRight": "5px"
              }
             },
             "children": [
              "Called"
             ],
             "tagName": "span"
            },
            {
             "attributes": {
              "style": {
               "fontFamily": "monospace",
               "unicodeBidi": "embed",
               "whiteSpace": "pre"
              }
             },
             "children": [
              "show_colors"
             ],
             "tagName": "span"
            },
            {
             "attributes": {
              "style": {
               "fontFamily": "monospace",
               "unicodeBidi": "embed",
               "whiteSpace": "pre"
              }
             },
             "children": [
              "..."
             ],
             "tagName": "span"
            }
           ],
           "tagName": "summary"
          },
          {
           "attributes": {
            "style": {
             "marginLeft": "10px",
             "marginTop": "10px"
            }
           },
           "children": [
            {
             "attributes": {},
             "children": [
              {
               "attributes": {
                "style": {
                 "color": "#27374D",
                 "fontWeight": "500",
                 "marginBottom": "5px"
                }
               },
               "children": [
                "Input:"
               ],
               "tagName": "div"
              },
              {
               "attributes": {
                "style": {
                 "background": "#F7F9FA",
                 "color": "#27374D",
                 "fontFamily": "monospace",
                 "marginBottom": "10px",
                 "overflowX": "auto",
                 "padding": "10px",
                 "unicodeBidi": "embed",
                 "whiteSpace": "pre"
                }
               },
               "children": [
                "{\"colors\":[\"#0F0F0F\",\"#212121\",\"#2D2D2D\",\"#39FF14\",\"#FF0794\",\"#FFD300\",\"#00FFFF\",\"#FF073A\",\"#FFFFFF\",\"#BBBBBB\"]}"
               ],
               "tagName": "div"
              }
             ],
             "tagName": "div"
            },
            {
             "attributes": {},
             "children": [
              {
               "attributes": {
                "style": {
                 "color": "#27374D",
                 "fontWeight": "500",
                 "marginBottom": "5px"
                }
               },
               "children": [
                "Output:"
               ],
               "tagName": "div"
              },
              {
               "attributes": {
                "style": {
                 "background": "#F7F9FA",
                 "color": "#27374D",
                 "fontFamily": "monospace",
                 "marginBottom": "10px",
                 "overflowX": "auto",
                 "padding": "10px",
                 "unicodeBidi": "embed",
                 "whiteSpace": "pre"
                }
               },
               "children": [
                "Displayed colors for user."
               ],
               "tagName": "div"
              }
             ],
             "tagName": "div"
            }
           ],
           "tagName": "div"
          }
         ],
         "tagName": "details"
        }
       ],
       "tagName": "div"
      },
      "text/html": [
       "<div><style>.chatlab-chat-details summary &gt; *  { display: inline; color: #27374D; }</style><details style=\"background: #DDE6ED; border-radius: 5px; padding: .5rem 1rem\" className=\"chatlab-chat-details\"><summary style=\"color: #27374D; cursor: pointer\"><span style=\"color: #9DB2BF; padding-left: 5px; padding-right: 5px\">𝑓</span><span style=\"color: #27374D; padding-left: 5px; padding-right: 5px\">Called</span><span style=\"font-family: monospace; unicode-bidi: embed; white-space: pre\">show_colors</span><span style=\"font-family: monospace; unicode-bidi: embed; white-space: pre\">...</span></summary><div style=\"margin-left: 10px; margin-top: 10px\"><div><div style=\"color: #27374D; font-weight: 500; margin-bottom: 5px\">Input:</div><div style=\"background: #F7F9FA; color: #27374D; font-family: monospace; margin-bottom: 10px; overflow-x: auto; padding: 10px; unicode-bidi: embed; white-space: pre\">{&quot;colors&quot;:[&quot;#0F0F0F&quot;,&quot;#212121&quot;,&quot;#2D2D2D&quot;,&quot;#39FF14&quot;,&quot;#FF0794&quot;,&quot;#FFD300&quot;,&quot;#00FFFF&quot;,&quot;#FF073A&quot;,&quot;#FFFFFF&quot;,&quot;#BBBBBB&quot;]}</div></div><div><div style=\"color: #27374D; font-weight: 500; margin-bottom: 5px\">Output:</div><div style=\"background: #F7F9FA; color: #27374D; font-family: monospace; margin-bottom: 10px; overflow-x: auto; padding: 10px; unicode-bidi: embed; white-space: pre\">Displayed colors for user.</div></div></div></details></div>"
      ],
      "text/plain": [
       "<div><style>.chatlab-chat-details summary &gt; *  { display: inline; color: #27374D; }</style><details style=\"background: #DDE6ED; border-radius: 5px; padding: .5rem 1rem\" className=\"chatlab-chat-details\"><summary style=\"color: #27374D; cursor: pointer\"><span style=\"color: #9DB2BF; padding-left: 5px; padding-right: 5px\">𝑓</span><span style=\"color: #27374D; padding-left: 5px; padding-right: 5px\">Called</span><span style=\"font-family: monospace; unicode-bidi: embed; white-space: pre\">show_colors</span><span style=\"font-family: monospace; unicode-bidi: embed; white-space: pre\">...</span></summary><div style=\"margin-left: 10px; margin-top: 10px\"><div><div style=\"color: #27374D; font-weight: 500; margin-bottom: 5px\">Input:</div><div style=\"background: #F7F9FA; color: #27374D; font-family: monospace; margin-bottom: 10px; overflow-x: auto; padding: 10px; unicode-bidi: embed; white-space: pre\">{&quot;colors&quot;:[&quot;#0F0F0F&quot;,&quot;#212121&quot;,&quot;#2D2D2D&quot;,&quot;#39FF14&quot;,&quot;#FF0794&quot;,&quot;#FFD300&quot;,&quot;#00FFFF&quot;,&quot;#FF073A&quot;,&quot;#FFFFFF&quot;,&quot;#BBBBBB&quot;]}</div></div><div><div style=\"color: #27374D; font-weight: 500; margin-bottom: 5px\">Output:</div><div style=\"background: #F7F9FA; color: #27374D; font-family: monospace; margin-bottom: 10px; overflow-x: auto; padding: 10px; unicode-bidi: embed; white-space: pre\">Displayed colors for user.</div></div></div></details></div>"
      ]
     },
     "metadata": {},
     "output_type": "display_data"
    },
    {
     "data": {
      "text/html": [
       "<div><div style=\"background-color:#0F0F0F; width:50px; height:50px; display:inline-block;\"></div><div style=\"background-color:#212121; width:50px; height:50px; display:inline-block;\"></div><div style=\"background-color:#2D2D2D; width:50px; height:50px; display:inline-block;\"></div><div style=\"background-color:#39FF14; width:50px; height:50px; display:inline-block;\"></div><div style=\"background-color:#FF0794; width:50px; height:50px; display:inline-block;\"></div><div style=\"background-color:#FFD300; width:50px; height:50px; display:inline-block;\"></div><div style=\"background-color:#00FFFF; width:50px; height:50px; display:inline-block;\"></div><div style=\"background-color:#FF073A; width:50px; height:50px; display:inline-block;\"></div><div style=\"background-color:#FFFFFF; width:50px; height:50px; display:inline-block;\"></div><div style=\"background-color:#BBBBBB; width:50px; height:50px; display:inline-block;\"></div></div>"
      ],
      "text/plain": [
       "Palette(['#0F0F0F', '#212121', '#2D2D2D', '#39FF14', '#FF0794', '#FFD300', '#00FFFF', '#FF073A', '#FFFFFF', '#BBBBBB'], None)"
      ]
     },
     "metadata": {},
     "output_type": "display_data"
    },
    {
     "data": {
      "text/markdown": [
       "For a neon-themed portfolio site with a dark background, I've selected a palette that combines deep dark shades with bright, neon colors to create a vibrant and energetic atmosphere. Here's the neon palette:\n",
       "\n",
       "1. **Background Base**: `#0F0F0F` - An almost black shade that will make the neon colors pop and provide a canvas for the content.\n",
       "2. **Secondary Background**: `#212121` - A very dark gray for secondary elements to add a subtle contrast against the base background.\n",
       "3. **Tertiary Background**: `#2D2D2D` - Another layer of dark gray for areas that require a slight differentiation from the main and secondary backgrounds.\n",
       "4. **Neon Green**: `#39FF14` - A bright, electric green for highlights and interactive elements that demand attention.\n",
       "5. **Neon Pink**: `#FF0794` - A vivid pink for call-to-action buttons, important links, or to highlight key achievements.\n",
       "6. **Neon Yellow**: `#FFD300` - A glowing yellow for badges, tags, or to accentuate navigation and key information.\n",
       "7. **Neon Cyan**: `#00FFFF` - A striking cyan for icons, borders, or to complement the other neon colors.\n",
       "8. **Neon Red**: `#FF073A` - A radiant red for urgent notifications, errors, or to emphasize critical points.\n",
       "9. **Text Primary**: `#FFFFFF` - Pure white for the main body text to ensure maximum readability on the dark background.\n",
       "10. **Text Secondary**: `#BBBBBB` - A lighter gray for secondary text or less important information.\n",
       "\n",
       "This neon palette is designed to give your portfolio a dynamic and modern look, with the dark background serving as the perfect stage for the neon colors to shine. The use of neon colors not only adds visual excitement but also helps in guiding the user's eye to the most important parts of your portfolio."
      ],
      "text/plain": [
       "AssistantMessageView(display_id='babd2a01-2ab6-49a0-ad0e-280dcc4e8035', content=\"For a neon-themed portfolio site with a dark background, I've selected a palette that combines deep dark shades with bright, neon colors to create a vibrant and energetic atmosphere. Here's the neon palette:\\n\\n1. **Background Base**: `#0F0F0F` - An almost black shade that will make the neon colors pop and provide a canvas for the content.\\n2. **Secondary Background**: `#212121` - A very dark gray for secondary elements to add a subtle contrast against the base background.\\n3. **Tertiary Background**: `#2D2D2D` - Another layer of dark gray for areas that require a slight differentiation from the main and secondary backgrounds.\\n4. **Neon Green**: `#39FF14` - A bright, electric green for highlights and interactive elements that demand attention.\\n5. **Neon Pink**: `#FF0794` - A vivid pink for call-to-action buttons, important links, or to highlight key achievements.\\n6. **Neon Yellow**: `#FFD300` - A glowing yellow for badges, tags, or to accentuate navigation and key information.\\n7. **Neon Cyan**: `#00FFFF` - A striking cyan for icons, borders, or to complement the other neon colors.\\n8. **Neon Red**: `#FF073A` - A radiant red for urgent notifications, errors, or to emphasize critical points.\\n9. **Text Primary**: `#FFFFFF` - Pure white for the main body text to ensure maximum readability on the dark background.\\n10. **Text Secondary**: `#BBBBBB` - A lighter gray for secondary text or less important information.\\n\\nThis neon palette is designed to give your portfolio a dynamic and modern look, with the dark background serving as the perfect stage for the neon colors to shine. The use of neon colors not only adds visual excitement but also helps in guiding the user's eye to the most important parts of your portfolio.\", finished=False, has_displayed=True)"
      ]
     },
     "metadata": {},
     "output_type": "display_data"
    }
   ],
   "source": [
    "await chat(\"Can you make a neon version now?\")"
   ]
  },
  {
   "cell_type": "code",
   "execution_count": null,
   "metadata": {},
   "outputs": [],
   "source": []
  }
 ],
 "metadata": {
  "kernelspec": {
   "display_name": "Python 3 (ipykernel)",
   "language": "python",
   "name": "python3"
  },
  "language_info": {
   "codemirror_mode": {
    "name": "ipython",
    "version": 3
   },
   "file_extension": ".py",
   "mimetype": "text/x-python",
   "name": "python",
   "nbconvert_exporter": "python",
   "pygments_lexer": "ipython3",
   "version": "3.11.7"
  }
 },
 "nbformat": 4,
 "nbformat_minor": 2
}
