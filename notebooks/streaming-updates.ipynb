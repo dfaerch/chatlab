{
 "cells": [
  {
   "cell_type": "code",
   "execution_count": 1,
   "metadata": {},
   "outputs": [
    {
     "data": {
      "application/vdom.v1+json": {
       "attributes": {},
       "children": [
        {
         "attributes": {
          "style": {
           "textAlign": "center"
          }
         },
         "children": [
          "Fallout Characters"
         ],
         "tagName": "h1"
        },
        {
         "attributes": {
          "style": {
           "display": "grid",
           "gap": "20px",
           "gridTemplateColumns": "repeat(auto-fill, minmax(250px, 1fr))",
           "padding": "10px"
          }
         },
         "children": [
          {
           "attributes": {
            "style": {
             "alignItems": "center",
             "border": "1px solid #ddd",
             "borderRadius": "5px",
             "display": "flex",
             "flexDirection": "column",
             "justifyContent": "center",
             "padding": "10px"
            }
           },
           "children": [
            {
             "attributes": {
              "style": {
               "color": "#333"
              }
             },
             "children": [
              "Vault Dweller"
             ],
             "tagName": "h1"
            },
            {
             "attributes": {},
             "children": [
              {
               "attributes": {
                "style": {
                 "fontWeight": "bold"
                }
               },
               "children": [
                "Age: "
               ],
               "tagName": "span"
              },
              {
               "attributes": {
                "style": {
                 "color": "gray"
                }
               },
               "children": [
                "19"
               ],
               "tagName": "span"
              }
             ],
             "tagName": "p"
            },
            {
             "attributes": {},
             "children": [
              {
               "attributes": {
                "style": {
                 "fontWeight": "bold"
                }
               },
               "children": [
                "Role: "
               ],
               "tagName": "span"
              },
              {
               "attributes": {
                "style": {
                 "color": "#555"
                }
               },
               "children": [
                "Protagonist"
               ],
               "tagName": "span"
              }
             ],
             "tagName": "p"
            },
            {
             "attributes": {},
             "children": [
              {
               "attributes": {
                "style": {
                 "fontWeight": "bold"
                }
               },
               "children": [
                "Affiliation: "
               ],
               "tagName": "span"
              },
              {
               "attributes": {
                "style": {
                 "color": "#777"
                }
               },
               "children": [
                "Vault 13"
               ],
               "tagName": "span"
              }
             ],
             "tagName": "p"
            }
           ],
           "tagName": "div"
          },
          {
           "attributes": {
            "style": {
             "alignItems": "center",
             "border": "1px solid #ddd",
             "borderRadius": "5px",
             "display": "flex",
             "flexDirection": "column",
             "justifyContent": "center",
             "padding": "10px"
            }
           },
           "children": [
            {
             "attributes": {
              "style": {
               "color": "#333"
              }
             },
             "children": [
              "Dogmeat"
             ],
             "tagName": "h1"
            },
            {
             "attributes": {},
             "children": [
              {
               "attributes": {
                "style": {
                 "fontWeight": "bold"
                }
               },
               "children": [
                "Age: "
               ],
               "tagName": "span"
              },
              {
               "attributes": {
                "style": {
                 "color": "gray"
                }
               },
               "children": [
                "5"
               ],
               "tagName": "span"
              }
             ],
             "tagName": "p"
            },
            {
             "attributes": {},
             "children": [
              {
               "attributes": {
                "style": {
                 "fontWeight": "bold"
                }
               },
               "children": [
                "Role: "
               ],
               "tagName": "span"
              },
              {
               "attributes": {
                "style": {
                 "color": "#555"
                }
               },
               "children": [
                "Companion"
               ],
               "tagName": "span"
              }
             ],
             "tagName": "p"
            },
            {
             "attributes": {},
             "children": [
              {
               "attributes": {
                "style": {
                 "fontWeight": "bold"
                }
               },
               "children": [
                "Affiliation: "
               ],
               "tagName": "span"
              },
              {
               "attributes": {
                "style": {
                 "color": "#777"
                }
               },
               "children": [
                "Lone Wanderer"
               ],
               "tagName": "span"
              }
             ],
             "tagName": "p"
            }
           ],
           "tagName": "div"
          },
          {
           "attributes": {
            "style": {
             "alignItems": "center",
             "border": "1px solid #ddd",
             "borderRadius": "5px",
             "display": "flex",
             "flexDirection": "column",
             "justifyContent": "center",
             "padding": "10px"
            }
           },
           "children": [
            {
             "attributes": {
              "style": {
               "color": "#333"
              }
             },
             "children": [
              "Piper Wright"
             ],
             "tagName": "h1"
            },
            {
             "attributes": {},
             "children": [
              {
               "attributes": {
                "style": {
                 "fontWeight": "bold"
                }
               },
               "children": [
                "Age: "
               ],
               "tagName": "span"
              },
              {
               "attributes": {
                "style": {
                 "color": "gray"
                }
               },
               "children": [
                "28"
               ],
               "tagName": "span"
              }
             ],
             "tagName": "p"
            },
            {
             "attributes": {},
             "children": [
              {
               "attributes": {
                "style": {
                 "fontWeight": "bold"
                }
               },
               "children": [
                "Role: "
               ],
               "tagName": "span"
              },
              {
               "attributes": {
                "style": {
                 "color": "#555"
                }
               },
               "children": [
                "Journalist"
               ],
               "tagName": "span"
              }
             ],
             "tagName": "p"
            },
            {
             "attributes": {},
             "children": [
              {
               "attributes": {
                "style": {
                 "fontWeight": "bold"
                }
               },
               "children": [
                "Affiliation: "
               ],
               "tagName": "span"
              },
              {
               "attributes": {
                "style": {
                 "color": "#777"
                }
               },
               "children": [
                "Publick Occurrences"
               ],
               "tagName": "span"
              }
             ],
             "tagName": "p"
            }
           ],
           "tagName": "div"
          },
          {
           "attributes": {
            "style": {
             "alignItems": "center",
             "border": "1px solid #ddd",
             "borderRadius": "5px",
             "display": "flex",
             "flexDirection": "column",
             "justifyContent": "center",
             "padding": "10px"
            }
           },
           "children": [
            {
             "attributes": {
              "style": {
               "color": "#333"
              }
             },
             "children": [
              "Nick Valentine"
             ],
             "tagName": "h1"
            },
            {
             "attributes": {},
             "children": [
              {
               "attributes": {
                "style": {
                 "fontWeight": "bold"
                }
               },
               "children": [
                "Age: "
               ],
               "tagName": "span"
              },
              {
               "attributes": {
                "style": {
                 "color": "gray"
                }
               },
               "children": [
                "109"
               ],
               "tagName": "span"
              }
             ],
             "tagName": "p"
            },
            {
             "attributes": {},
             "children": [
              {
               "attributes": {
                "style": {
                 "fontWeight": "bold"
                }
               },
               "children": [
                "Role: "
               ],
               "tagName": "span"
              },
              {
               "attributes": {
                "style": {
                 "color": "#555"
                }
               },
               "children": [
                "Detective"
               ],
               "tagName": "span"
              }
             ],
             "tagName": "p"
            },
            {
             "attributes": {},
             "children": [
              {
               "attributes": {
                "style": {
                 "fontWeight": "bold"
                }
               },
               "children": [
                "Affiliation: "
               ],
               "tagName": "span"
              },
              {
               "attributes": {
                "style": {
                 "color": "#777"
                }
               },
               "children": [
                "Diamond City"
               ],
               "tagName": "span"
              }
             ],
             "tagName": "p"
            }
           ],
           "tagName": "div"
          },
          {
           "attributes": {
            "style": {
             "alignItems": "center",
             "border": "1px solid #ddd",
             "borderRadius": "5px",
             "display": "flex",
             "flexDirection": "column",
             "justifyContent": "center",
             "padding": "10px"
            }
           },
           "children": [
            {
             "attributes": {
              "style": {
               "color": "#333"
              }
             },
             "children": [
              "Preston Garvey"
             ],
             "tagName": "h1"
            },
            {
             "attributes": {},
             "children": [
              {
               "attributes": {
                "style": {
                 "fontWeight": "bold"
                }
               },
               "children": [
                "Age: "
               ],
               "tagName": "span"
              },
              {
               "attributes": {
                "style": {
                 "color": "gray"
                }
               },
               "children": [
                "26"
               ],
               "tagName": "span"
              }
             ],
             "tagName": "p"
            },
            {
             "attributes": {},
             "children": [
              {
               "attributes": {
                "style": {
                 "fontWeight": "bold"
                }
               },
               "children": [
                "Role: "
               ],
               "tagName": "span"
              },
              {
               "attributes": {
                "style": {
                 "color": "#555"
                }
               },
               "children": [
                "Minuteman"
               ],
               "tagName": "span"
              }
             ],
             "tagName": "p"
            },
            {
             "attributes": {},
             "children": [
              {
               "attributes": {
                "style": {
                 "fontWeight": "bold"
                }
               },
               "children": [
                "Affiliation: "
               ],
               "tagName": "span"
              },
              {
               "attributes": {
                "style": {
                 "color": "#777"
                }
               },
               "children": [
                "Commonwealth Minutemen"
               ],
               "tagName": "span"
              }
             ],
             "tagName": "p"
            }
           ],
           "tagName": "div"
          },
          {
           "attributes": {
            "style": {
             "alignItems": "center",
             "border": "1px solid #ddd",
             "borderRadius": "5px",
             "display": "flex",
             "flexDirection": "column",
             "justifyContent": "center",
             "padding": "10px"
            }
           },
           "children": [
            {
             "attributes": {
              "style": {
               "color": "#333"
              }
             },
             "children": [
              "Cait"
             ],
             "tagName": "h1"
            },
            {
             "attributes": {},
             "children": [
              {
               "attributes": {
                "style": {
                 "fontWeight": "bold"
                }
               },
               "children": [
                "Age: "
               ],
               "tagName": "span"
              },
              {
               "attributes": {
                "style": {
                 "color": "gray"
                }
               },
               "children": [
                "26"
               ],
               "tagName": "span"
              }
             ],
             "tagName": "p"
            },
            {
             "attributes": {},
             "children": [
              {
               "attributes": {
                "style": {
                 "fontWeight": "bold"
                }
               },
               "children": [
                "Role: "
               ],
               "tagName": "span"
              },
              {
               "attributes": {
                "style": {
                 "color": "#555"
                }
               },
               "children": [
                "Fighter"
               ],
               "tagName": "span"
              }
             ],
             "tagName": "p"
            },
            {
             "attributes": {},
             "children": [
              {
               "attributes": {
                "style": {
                 "fontWeight": "bold"
                }
               },
               "children": [
                "Affiliation: "
               ],
               "tagName": "span"
              },
              {
               "attributes": {
                "style": {
                 "color": "#777"
                }
               },
               "children": [
                "Combat Zone"
               ],
               "tagName": "span"
              }
             ],
             "tagName": "p"
            }
           ],
           "tagName": "div"
          },
          {
           "attributes": {
            "style": {
             "alignItems": "center",
             "border": "1px solid #ddd",
             "borderRadius": "5px",
             "display": "flex",
             "flexDirection": "column",
             "justifyContent": "center",
             "padding": "10px"
            }
           },
           "children": [
            {
             "attributes": {
              "style": {
               "color": "#333"
              }
             },
             "children": [
              "Deacon"
             ],
             "tagName": "h1"
            },
            {
             "attributes": {},
             "children": [
              {
               "attributes": {
                "style": {
                 "fontWeight": "bold"
                }
               },
               "children": [
                "Age: "
               ],
               "tagName": "span"
              },
              {
               "attributes": {
                "style": {
                 "color": "gray"
                }
               },
               "children": [
                "35"
               ],
               "tagName": "span"
              }
             ],
             "tagName": "p"
            },
            {
             "attributes": {},
             "children": [
              {
               "attributes": {
                "style": {
                 "fontWeight": "bold"
                }
               },
               "children": [
                "Role: "
               ],
               "tagName": "span"
              },
              {
               "attributes": {
                "style": {
                 "color": "#555"
                }
               },
               "children": [
                "Spy"
               ],
               "tagName": "span"
              }
             ],
             "tagName": "p"
            },
            {
             "attributes": {},
             "children": [
              {
               "attributes": {
                "style": {
                 "fontWeight": "bold"
                }
               },
               "children": [
                "Affiliation: "
               ],
               "tagName": "span"
              },
              {
               "attributes": {
                "style": {
                 "color": "#777"
                }
               },
               "children": [
                "The Railroad"
               ],
               "tagName": "span"
              }
             ],
             "tagName": "p"
            }
           ],
           "tagName": "div"
          },
          {
           "attributes": {
            "style": {
             "alignItems": "center",
             "border": "1px solid #ddd",
             "borderRadius": "5px",
             "display": "flex",
             "flexDirection": "column",
             "justifyContent": "center",
             "padding": "10px"
            }
           },
           "children": [
            {
             "attributes": {
              "style": {
               "color": "#333"
              }
             },
             "children": [
              "Elder Maxson"
             ],
             "tagName": "h1"
            },
            {
             "attributes": {},
             "children": [
              {
               "attributes": {
                "style": {
                 "fontWeight": "bold"
                }
               },
               "children": [
                "Age: "
               ],
               "tagName": "span"
              },
              {
               "attributes": {
                "style": {
                 "color": "gray"
                }
               },
               "children": [
                "20"
               ],
               "tagName": "span"
              }
             ],
             "tagName": "p"
            },
            {
             "attributes": {},
             "children": [
              {
               "attributes": {
                "style": {
                 "fontWeight": "bold"
                }
               },
               "children": [
                "Role: "
               ],
               "tagName": "span"
              },
              {
               "attributes": {
                "style": {
                 "color": "#555"
                }
               },
               "children": [
                "Leader"
               ],
               "tagName": "span"
              }
             ],
             "tagName": "p"
            },
            {
             "attributes": {},
             "children": [
              {
               "attributes": {
                "style": {
                 "fontWeight": "bold"
                }
               },
               "children": [
                "Affiliation: "
               ],
               "tagName": "span"
              },
              {
               "attributes": {
                "style": {
                 "color": "#777"
                }
               },
               "children": [
                "Brotherhood of Steel"
               ],
               "tagName": "span"
              }
             ],
             "tagName": "p"
            }
           ],
           "tagName": "div"
          },
          {
           "attributes": {
            "style": {
             "alignItems": "center",
             "border": "1px solid #ddd",
             "borderRadius": "5px",
             "display": "flex",
             "flexDirection": "column",
             "justifyContent": "center",
             "padding": "10px"
            }
           },
           "children": [
            {
             "attributes": {
              "style": {
               "color": "#333"
              }
             },
             "children": [
              "Codsworth"
             ],
             "tagName": "h1"
            },
            {
             "attributes": {},
             "children": [
              {
               "attributes": {
                "style": {
                 "fontWeight": "bold"
                }
               },
               "children": [
                "Age: "
               ],
               "tagName": "span"
              },
              {
               "attributes": {
                "style": {
                 "color": "gray"
                }
               },
               "children": [
                "210"
               ],
               "tagName": "span"
              }
             ],
             "tagName": "p"
            },
            {
             "attributes": {},
             "children": [
              {
               "attributes": {
                "style": {
                 "fontWeight": "bold"
                }
               },
               "children": [
                "Role: "
               ],
               "tagName": "span"
              },
              {
               "attributes": {
                "style": {
                 "color": "#555"
                }
               },
               "children": [
                "Housekeeper"
               ],
               "tagName": "span"
              }
             ],
             "tagName": "p"
            },
            {
             "attributes": {},
             "children": [
              {
               "attributes": {
                "style": {
                 "fontWeight": "bold"
                }
               },
               "children": [
                "Affiliation: "
               ],
               "tagName": "span"
              },
              {
               "attributes": {
                "style": {
                 "color": "#777"
                }
               },
               "children": [
                "Sole Survivor"
               ],
               "tagName": "span"
              }
             ],
             "tagName": "p"
            }
           ],
           "tagName": "div"
          },
          {
           "attributes": {
            "style": {
             "alignItems": "center",
             "border": "1px solid #ddd",
             "borderRadius": "5px",
             "display": "flex",
             "flexDirection": "column",
             "justifyContent": "center",
             "padding": "10px"
            }
           },
           "children": [
            {
             "attributes": {
              "style": {
               "color": "#333"
              }
             },
             "children": [
              "Curie"
             ],
             "tagName": "h1"
            },
            {
             "attributes": {},
             "children": [
              {
               "attributes": {
                "style": {
                 "fontWeight": "bold"
                }
               },
               "children": [
                "Age: "
               ],
               "tagName": "span"
              },
              {
               "attributes": {
                "style": {
                 "color": "gray"
                }
               },
               "children": [
                "210"
               ],
               "tagName": "span"
              }
             ],
             "tagName": "p"
            },
            {
             "attributes": {},
             "children": [
              {
               "attributes": {
                "style": {
                 "fontWeight": "bold"
                }
               },
               "children": [
                "Role: "
               ],
               "tagName": "span"
              },
              {
               "attributes": {
                "style": {
                 "color": "#555"
                }
               },
               "children": [
                "Scientist"
               ],
               "tagName": "span"
              }
             ],
             "tagName": "p"
            },
            {
             "attributes": {},
             "children": [
              {
               "attributes": {
                "style": {
                 "fontWeight": "bold"
                }
               },
               "children": [
                "Affiliation: "
               ],
               "tagName": "span"
              },
              {
               "attributes": {
                "style": {
                 "color": "#777"
                }
               },
               "children": [
                "Vault-Tec"
               ],
               "tagName": "span"
              }
             ],
             "tagName": "p"
            }
           ],
           "tagName": "div"
          },
          {
           "attributes": {
            "style": {
             "alignItems": "center",
             "border": "1px solid #ddd",
             "borderRadius": "5px",
             "display": "flex",
             "flexDirection": "column",
             "justifyContent": "center",
             "padding": "10px"
            }
           },
           "children": [
            {
             "attributes": {
              "style": {
               "color": "#333"
              }
             },
             "children": [
              "Strong"
             ],
             "tagName": "h1"
            },
            {
             "attributes": {},
             "children": [
              {
               "attributes": {
                "style": {
                 "fontWeight": "bold"
                }
               },
               "children": [
                "Age: "
               ],
               "tagName": "span"
              },
              {
               "attributes": {
                "style": {
                 "color": "gray"
                }
               },
               "children": [
                "10"
               ],
               "tagName": "span"
              }
             ],
             "tagName": "p"
            },
            {
             "attributes": {},
             "children": [
              {
               "attributes": {
                "style": {
                 "fontWeight": "bold"
                }
               },
               "children": [
                "Role: "
               ],
               "tagName": "span"
              },
              {
               "attributes": {
                "style": {
                 "color": "#555"
                }
               },
               "children": [
                "Super Mutant"
               ],
               "tagName": "span"
              }
             ],
             "tagName": "p"
            },
            {
             "attributes": {},
             "children": [
              {
               "attributes": {
                "style": {
                 "fontWeight": "bold"
                }
               },
               "children": [
                "Affiliation: "
               ],
               "tagName": "span"
              },
              {
               "attributes": {
                "style": {
                 "color": "#777"
                }
               },
               "children": [
                "Trinity Tower"
               ],
               "tagName": "span"
              }
             ],
             "tagName": "p"
            }
           ],
           "tagName": "div"
          },
          {
           "attributes": {
            "style": {
             "alignItems": "center",
             "border": "1px solid #ddd",
             "borderRadius": "5px",
             "display": "flex",
             "flexDirection": "column",
             "justifyContent": "center",
             "padding": "10px"
            }
           },
           "children": [
            {
             "attributes": {
              "style": {
               "color": "#333"
              }
             },
             "children": [
              "Hancock"
             ],
             "tagName": "h1"
            },
            {
             "attributes": {},
             "children": [
              {
               "attributes": {
                "style": {
                 "fontWeight": "bold"
                }
               },
               "children": [
                "Age: "
               ],
               "tagName": "span"
              },
              {
               "attributes": {
                "style": {
                 "color": "gray"
                }
               },
               "children": [
                "240"
               ],
               "tagName": "span"
              }
             ],
             "tagName": "p"
            },
            {
             "attributes": {},
             "children": [
              {
               "attributes": {
                "style": {
                 "fontWeight": "bold"
                }
               },
               "children": [
                "Role: "
               ],
               "tagName": "span"
              },
              {
               "attributes": {
                "style": {
                 "color": "#555"
                }
               },
               "children": [
                "Mayor"
               ],
               "tagName": "span"
              }
             ],
             "tagName": "p"
            },
            {
             "attributes": {},
             "children": [
              {
               "attributes": {
                "style": {
                 "fontWeight": "bold"
                }
               },
               "children": [
                "Affiliation: "
               ],
               "tagName": "span"
              },
              {
               "attributes": {
                "style": {
                 "color": "#777"
                }
               },
               "children": [
                "Goodneighbor"
               ],
               "tagName": "span"
              }
             ],
             "tagName": "p"
            }
           ],
           "tagName": "div"
          }
         ],
         "tagName": "div"
        }
       ],
       "tagName": "div"
      },
      "text/html": [
       "<div><h1 style=\"text-align: center\">Fallout Characters</h1><div style=\"display: grid; gap: 20px; grid-template-columns: repeat(auto-fill, minmax(250px, 1fr)); padding: 10px\"><div style=\"align-items: center; border: 1px solid #ddd; border-radius: 5px; display: flex; flex-direction: column; justify-content: center; padding: 10px\"><h1 style=\"color: #333\">Vault Dweller</h1><p><span style=\"font-weight: bold\">Age: </span><span style=\"color: gray\">19</span></p><p><span style=\"font-weight: bold\">Role: </span><span style=\"color: #555\">Protagonist</span></p><p><span style=\"font-weight: bold\">Affiliation: </span><span style=\"color: #777\">Vault 13</span></p></div><div style=\"align-items: center; border: 1px solid #ddd; border-radius: 5px; display: flex; flex-direction: column; justify-content: center; padding: 10px\"><h1 style=\"color: #333\">Dogmeat</h1><p><span style=\"font-weight: bold\">Age: </span><span style=\"color: gray\">5</span></p><p><span style=\"font-weight: bold\">Role: </span><span style=\"color: #555\">Companion</span></p><p><span style=\"font-weight: bold\">Affiliation: </span><span style=\"color: #777\">Lone Wanderer</span></p></div><div style=\"align-items: center; border: 1px solid #ddd; border-radius: 5px; display: flex; flex-direction: column; justify-content: center; padding: 10px\"><h1 style=\"color: #333\">Piper Wright</h1><p><span style=\"font-weight: bold\">Age: </span><span style=\"color: gray\">28</span></p><p><span style=\"font-weight: bold\">Role: </span><span style=\"color: #555\">Journalist</span></p><p><span style=\"font-weight: bold\">Affiliation: </span><span style=\"color: #777\">Publick Occurrences</span></p></div><div style=\"align-items: center; border: 1px solid #ddd; border-radius: 5px; display: flex; flex-direction: column; justify-content: center; padding: 10px\"><h1 style=\"color: #333\">Nick Valentine</h1><p><span style=\"font-weight: bold\">Age: </span><span style=\"color: gray\">109</span></p><p><span style=\"font-weight: bold\">Role: </span><span style=\"color: #555\">Detective</span></p><p><span style=\"font-weight: bold\">Affiliation: </span><span style=\"color: #777\">Diamond City</span></p></div><div style=\"align-items: center; border: 1px solid #ddd; border-radius: 5px; display: flex; flex-direction: column; justify-content: center; padding: 10px\"><h1 style=\"color: #333\">Preston Garvey</h1><p><span style=\"font-weight: bold\">Age: </span><span style=\"color: gray\">26</span></p><p><span style=\"font-weight: bold\">Role: </span><span style=\"color: #555\">Minuteman</span></p><p><span style=\"font-weight: bold\">Affiliation: </span><span style=\"color: #777\">Commonwealth Minutemen</span></p></div><div style=\"align-items: center; border: 1px solid #ddd; border-radius: 5px; display: flex; flex-direction: column; justify-content: center; padding: 10px\"><h1 style=\"color: #333\">Cait</h1><p><span style=\"font-weight: bold\">Age: </span><span style=\"color: gray\">26</span></p><p><span style=\"font-weight: bold\">Role: </span><span style=\"color: #555\">Fighter</span></p><p><span style=\"font-weight: bold\">Affiliation: </span><span style=\"color: #777\">Combat Zone</span></p></div><div style=\"align-items: center; border: 1px solid #ddd; border-radius: 5px; display: flex; flex-direction: column; justify-content: center; padding: 10px\"><h1 style=\"color: #333\">Deacon</h1><p><span style=\"font-weight: bold\">Age: </span><span style=\"color: gray\">35</span></p><p><span style=\"font-weight: bold\">Role: </span><span style=\"color: #555\">Spy</span></p><p><span style=\"font-weight: bold\">Affiliation: </span><span style=\"color: #777\">The Railroad</span></p></div><div style=\"align-items: center; border: 1px solid #ddd; border-radius: 5px; display: flex; flex-direction: column; justify-content: center; padding: 10px\"><h1 style=\"color: #333\">Elder Maxson</h1><p><span style=\"font-weight: bold\">Age: </span><span style=\"color: gray\">20</span></p><p><span style=\"font-weight: bold\">Role: </span><span style=\"color: #555\">Leader</span></p><p><span style=\"font-weight: bold\">Affiliation: </span><span style=\"color: #777\">Brotherhood of Steel</span></p></div><div style=\"align-items: center; border: 1px solid #ddd; border-radius: 5px; display: flex; flex-direction: column; justify-content: center; padding: 10px\"><h1 style=\"color: #333\">Codsworth</h1><p><span style=\"font-weight: bold\">Age: </span><span style=\"color: gray\">210</span></p><p><span style=\"font-weight: bold\">Role: </span><span style=\"color: #555\">Housekeeper</span></p><p><span style=\"font-weight: bold\">Affiliation: </span><span style=\"color: #777\">Sole Survivor</span></p></div><div style=\"align-items: center; border: 1px solid #ddd; border-radius: 5px; display: flex; flex-direction: column; justify-content: center; padding: 10px\"><h1 style=\"color: #333\">Curie</h1><p><span style=\"font-weight: bold\">Age: </span><span style=\"color: gray\">210</span></p><p><span style=\"font-weight: bold\">Role: </span><span style=\"color: #555\">Scientist</span></p><p><span style=\"font-weight: bold\">Affiliation: </span><span style=\"color: #777\">Vault-Tec</span></p></div><div style=\"align-items: center; border: 1px solid #ddd; border-radius: 5px; display: flex; flex-direction: column; justify-content: center; padding: 10px\"><h1 style=\"color: #333\">Strong</h1><p><span style=\"font-weight: bold\">Age: </span><span style=\"color: gray\">10</span></p><p><span style=\"font-weight: bold\">Role: </span><span style=\"color: #555\">Super Mutant</span></p><p><span style=\"font-weight: bold\">Affiliation: </span><span style=\"color: #777\">Trinity Tower</span></p></div><div style=\"align-items: center; border: 1px solid #ddd; border-radius: 5px; display: flex; flex-direction: column; justify-content: center; padding: 10px\"><h1 style=\"color: #333\">Hancock</h1><p><span style=\"font-weight: bold\">Age: </span><span style=\"color: gray\">240</span></p><p><span style=\"font-weight: bold\">Role: </span><span style=\"color: #555\">Mayor</span></p><p><span style=\"font-weight: bold\">Affiliation: </span><span style=\"color: #777\">Goodneighbor</span></p></div></div></div>"
      ],
      "text/plain": [
       "<div><h1 style=\"text-align: center\">Fallout Characters</h1><div style=\"display: grid; gap: 20px; grid-template-columns: repeat(auto-fill, minmax(250px, 1fr)); padding: 10px\"><div style=\"align-items: center; border: 1px solid #ddd; border-radius: 5px; display: flex; flex-direction: column; justify-content: center; padding: 10px\"><h1 style=\"color: #333\">Vault Dweller</h1><p><span style=\"font-weight: bold\">Age: </span><span style=\"color: gray\">19</span></p><p><span style=\"font-weight: bold\">Role: </span><span style=\"color: #555\">Protagonist</span></p><p><span style=\"font-weight: bold\">Affiliation: </span><span style=\"color: #777\">Vault 13</span></p></div><div style=\"align-items: center; border: 1px solid #ddd; border-radius: 5px; display: flex; flex-direction: column; justify-content: center; padding: 10px\"><h1 style=\"color: #333\">Dogmeat</h1><p><span style=\"font-weight: bold\">Age: </span><span style=\"color: gray\">5</span></p><p><span style=\"font-weight: bold\">Role: </span><span style=\"color: #555\">Companion</span></p><p><span style=\"font-weight: bold\">Affiliation: </span><span style=\"color: #777\">Lone Wanderer</span></p></div><div style=\"align-items: center; border: 1px solid #ddd; border-radius: 5px; display: flex; flex-direction: column; justify-content: center; padding: 10px\"><h1 style=\"color: #333\">Piper Wright</h1><p><span style=\"font-weight: bold\">Age: </span><span style=\"color: gray\">28</span></p><p><span style=\"font-weight: bold\">Role: </span><span style=\"color: #555\">Journalist</span></p><p><span style=\"font-weight: bold\">Affiliation: </span><span style=\"color: #777\">Publick Occurrences</span></p></div><div style=\"align-items: center; border: 1px solid #ddd; border-radius: 5px; display: flex; flex-direction: column; justify-content: center; padding: 10px\"><h1 style=\"color: #333\">Nick Valentine</h1><p><span style=\"font-weight: bold\">Age: </span><span style=\"color: gray\">109</span></p><p><span style=\"font-weight: bold\">Role: </span><span style=\"color: #555\">Detective</span></p><p><span style=\"font-weight: bold\">Affiliation: </span><span style=\"color: #777\">Diamond City</span></p></div><div style=\"align-items: center; border: 1px solid #ddd; border-radius: 5px; display: flex; flex-direction: column; justify-content: center; padding: 10px\"><h1 style=\"color: #333\">Preston Garvey</h1><p><span style=\"font-weight: bold\">Age: </span><span style=\"color: gray\">26</span></p><p><span style=\"font-weight: bold\">Role: </span><span style=\"color: #555\">Minuteman</span></p><p><span style=\"font-weight: bold\">Affiliation: </span><span style=\"color: #777\">Commonwealth Minutemen</span></p></div><div style=\"align-items: center; border: 1px solid #ddd; border-radius: 5px; display: flex; flex-direction: column; justify-content: center; padding: 10px\"><h1 style=\"color: #333\">Cait</h1><p><span style=\"font-weight: bold\">Age: </span><span style=\"color: gray\">26</span></p><p><span style=\"font-weight: bold\">Role: </span><span style=\"color: #555\">Fighter</span></p><p><span style=\"font-weight: bold\">Affiliation: </span><span style=\"color: #777\">Combat Zone</span></p></div><div style=\"align-items: center; border: 1px solid #ddd; border-radius: 5px; display: flex; flex-direction: column; justify-content: center; padding: 10px\"><h1 style=\"color: #333\">Deacon</h1><p><span style=\"font-weight: bold\">Age: </span><span style=\"color: gray\">35</span></p><p><span style=\"font-weight: bold\">Role: </span><span style=\"color: #555\">Spy</span></p><p><span style=\"font-weight: bold\">Affiliation: </span><span style=\"color: #777\">The Railroad</span></p></div><div style=\"align-items: center; border: 1px solid #ddd; border-radius: 5px; display: flex; flex-direction: column; justify-content: center; padding: 10px\"><h1 style=\"color: #333\">Elder Maxson</h1><p><span style=\"font-weight: bold\">Age: </span><span style=\"color: gray\">20</span></p><p><span style=\"font-weight: bold\">Role: </span><span style=\"color: #555\">Leader</span></p><p><span style=\"font-weight: bold\">Affiliation: </span><span style=\"color: #777\">Brotherhood of Steel</span></p></div><div style=\"align-items: center; border: 1px solid #ddd; border-radius: 5px; display: flex; flex-direction: column; justify-content: center; padding: 10px\"><h1 style=\"color: #333\">Codsworth</h1><p><span style=\"font-weight: bold\">Age: </span><span style=\"color: gray\">210</span></p><p><span style=\"font-weight: bold\">Role: </span><span style=\"color: #555\">Housekeeper</span></p><p><span style=\"font-weight: bold\">Affiliation: </span><span style=\"color: #777\">Sole Survivor</span></p></div><div style=\"align-items: center; border: 1px solid #ddd; border-radius: 5px; display: flex; flex-direction: column; justify-content: center; padding: 10px\"><h1 style=\"color: #333\">Curie</h1><p><span style=\"font-weight: bold\">Age: </span><span style=\"color: gray\">210</span></p><p><span style=\"font-weight: bold\">Role: </span><span style=\"color: #555\">Scientist</span></p><p><span style=\"font-weight: bold\">Affiliation: </span><span style=\"color: #777\">Vault-Tec</span></p></div><div style=\"align-items: center; border: 1px solid #ddd; border-radius: 5px; display: flex; flex-direction: column; justify-content: center; padding: 10px\"><h1 style=\"color: #333\">Strong</h1><p><span style=\"font-weight: bold\">Age: </span><span style=\"color: gray\">10</span></p><p><span style=\"font-weight: bold\">Role: </span><span style=\"color: #555\">Super Mutant</span></p><p><span style=\"font-weight: bold\">Affiliation: </span><span style=\"color: #777\">Trinity Tower</span></p></div><div style=\"align-items: center; border: 1px solid #ddd; border-radius: 5px; display: flex; flex-direction: column; justify-content: center; padding: 10px\"><h1 style=\"color: #333\">Hancock</h1><p><span style=\"font-weight: bold\">Age: </span><span style=\"color: gray\">240</span></p><p><span style=\"font-weight: bold\">Role: </span><span style=\"color: #555\">Mayor</span></p><p><span style=\"font-weight: bold\">Affiliation: </span><span style=\"color: #777\">Goodneighbor</span></p></div></div></div>"
      ]
     },
     "metadata": {},
     "output_type": "display_data"
    },
    {
     "data": {
      "text/markdown": [
       "I have created 12 characters from the Fallout Universe. You can see their details in the table above."
      ],
      "text/plain": [
       "AssistantMessageView(display_id='f0df1c5d-e1e8-4fd3-b919-7f3d58eb63f7', content='I have created 12 characters from the Fallout Universe. You can see their details in the table above.', finished=False, has_displayed=True)"
      ]
     },
     "metadata": {},
     "output_type": "display_data"
    }
   ],
   "source": [
    "from pydantic import BaseModel\n",
    "from typing import List\n",
    "from chatlab import Chat, system\n",
    "from chatlab.decorators import incremental_display\n",
    "\n",
    "from vdom import h1, div, p, span\n",
    "\n",
    "\n",
    "class FalloutCharacter(BaseModel):\n",
    "    name: str\n",
    "    age: int\n",
    "    role: str\n",
    "    affiliation: str\n",
    "\n",
    "\n",
    "def view_characters(characters: List[FalloutCharacter]):\n",
    "    \"\"\"Enhanced view of characters with grid layout and styling.\"\"\"\n",
    "    if characters is None or len(characters) == 0:\n",
    "        return None\n",
    "\n",
    "    return div(\n",
    "        h1(\"Fallout Characters\", style={\"textAlign\": \"center\"}),\n",
    "        div(\n",
    "            style={\n",
    "                \"display\": \"grid\",\n",
    "                \"gridTemplateColumns\": \"repeat(auto-fill, minmax(250px, 1fr))\",\n",
    "                \"gap\": \"20px\",\n",
    "                \"padding\": \"10px\",\n",
    "            },\n",
    "            children=[\n",
    "                div(\n",
    "                    style={\n",
    "                        \"padding\": \"10px\",\n",
    "                        \"border\": \"1px solid #ddd\",\n",
    "                        \"borderRadius\": \"5px\",\n",
    "                        \"display\": \"flex\",\n",
    "                        \"flexDirection\": \"column\",\n",
    "                        \"alignItems\": \"center\",\n",
    "                        \"justifyContent\": \"center\",\n",
    "                    },\n",
    "                    children=[\n",
    "                        h1(record.name, style={\"color\": \"#333\"}),\n",
    "                        p(\n",
    "                            span(\"Age: \", style={\"fontWeight\": \"bold\"}),\n",
    "                            span(str(record.age), style={\"color\": \"gray\"}),\n",
    "                        ),\n",
    "                        p(\n",
    "                            span(\"Role: \", style={\"fontWeight\": \"bold\"}),\n",
    "                            span(record.role, style={\"color\": \"#555\"}),\n",
    "                        ),\n",
    "                        p(\n",
    "                            span(\"Affiliation: \", style={\"fontWeight\": \"bold\"}),\n",
    "                            span(record.affiliation, style={\"color\": \"#777\"}),\n",
    "                        ),\n",
    "                    ],\n",
    "                )\n",
    "                for record in characters\n",
    "                if record is not None\n",
    "            ],\n",
    "        ),\n",
    "    )\n",
    "\n",
    "\n",
    "@incremental_display(view_characters)\n",
    "def store_characters(characters: List[FalloutCharacter]):\n",
    "    \"\"\"This stores records. A visual display of the records will also be shown.\"\"\"\n",
    "    return f\"Stored {len(characters)} characters and presented a table to the user above in the conversation UI.\"\n",
    "\n",
    "\n",
    "chat = Chat(\n",
    "    system(\n",
    "        \"You are running inside a jupyter notebook. Your responses appear as markdown in the notebook. Functions you run can produce side effects. Do not repeat input to functions back as text.\"\n",
    "    ),\n",
    "    #model=\"gpt-3.5-turbo\",\n",
    "    #model=\"gpt-4-turbo-preview\",\n",
    "    model=\"gpt-4\",\n",
    "    chat_functions=[store_characters],\n",
    ")\n",
    "\n",
    "await chat(\"Create some characters from the Fallout Universe. 12 will do.\")"
   ]
  },
  {
   "cell_type": "code",
   "execution_count": null,
   "metadata": {},
   "outputs": [],
   "source": []
  }
 ],
 "metadata": {
  "kernelspec": {
   "display_name": "chatlab-0EWIBOuo-py3.11",
   "language": "python",
   "name": "python3"
  },
  "language_info": {
   "codemirror_mode": {
    "name": "ipython",
    "version": 3
   },
   "file_extension": ".py",
   "mimetype": "text/x-python",
   "name": "python",
   "nbconvert_exporter": "python",
   "pygments_lexer": "ipython3",
   "version": "3.11.7"
  }
 },
 "nbformat": 4,
 "nbformat_minor": 2
}
